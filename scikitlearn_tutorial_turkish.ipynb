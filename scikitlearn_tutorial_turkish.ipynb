{
  "nbformat": 4,
  "nbformat_minor": 0,
  "metadata": {
    "colab": {
      "name": "scikitlearn_tutorial_turkish.ipynb",
      "provenance": []
    },
    "kernelspec": {
      "name": "python3",
      "display_name": "Python 3"
    }
  },
  "cells": [
    {
      "cell_type": "markdown",
      "metadata": {
        "id": "XSrghy4ARrMM"
      },
      "source": [
        "### [GOOGLE COLAB ÜZERİNDE ÇALIŞTIR!](http://colab.research.google.com/github/fuatbeser/python-notlarim/blob/master/scikitlearn_tutorial_turkish.ipynb)\n",
        "\n",
        "- [Github](https://github.com/fuatbeser/python-notlarim)\n",
        "- [Jupyter Notebook Viewer](http://nbviewer.jupyter.org/github/fuatbeser/python-notlarim/blob/master/scikitlearn_tutorial_turkish.ipynb)"
      ]
    },
    {
      "cell_type": "markdown",
      "metadata": {
        "id": "k9pwmlLIZWNx"
      },
      "source": [
        "Eğer bir soğutucu kullanmıyorsanız zaman zaman bilgisayarlarımız işlem yükünden (ya da diğer problemlerden) dolayı ısınır. Bilgisayarlarda CPU, GPU ve anakart sıcaklıkları sensörler yardımıyla ayrı ayrı ölçülebiliyor. Bilgisayarın zarar görmemesi için sıcaklığa bağlı olarak farklı devirlerde çalışır.\n",
        "\n",
        "Bilgisayarın sıcaklığına T diyelim. Bu sıcaklığın 30 derece ile 80 derece arasında olabileceğini varsayalım. \n",
        "\n",
        "Fan devir hızına da S diyelim. Bunun da 1500 rpm ile 3000 rpm arasında değiştiğini varsayalım.\n",
        "\n",
        "Her iki değeri de çok hassas bir şekilde ölçebildiğimizi varsayalım."
      ]
    },
    {
      "cell_type": "markdown",
      "metadata": {
        "id": "OK_tBLtkbSL0"
      },
      "source": [
        "Sıcaklık ile fan devir hızı arasındaki matematiksel bağıntıyı geliştiren kişi net olarak söylemediği sürece bilmemiz çok zordur. Tek bir bildiğimiz şey; belirli belirli bir kurala göre yapıldığıdır. En azından öyle umuyoruz. \n",
        "\n",
        "Peki sizden sıcaklık değerine göre fan devir hızını tahmin eden bir program geliştirmeniz istenseydi ne yapardınız?\n",
        "\n",
        "Hadi başlayalım!"
      ]
    },
    {
      "cell_type": "markdown",
      "metadata": {
        "id": "gLDe08x8c3yz"
      },
      "source": [
        "# **Adım 1: Ölçümler**\n",
        "\n",
        "İlk yapacağımız şey sıcaklık ve fan devir hızını ölçüp bir yere kaydetmek. Her bir sıcaklık değerine karşılık gelen aşağıdaki devir hızlarını elde etmiş olalım:\n",
        "\n",
        "*   30 > 1500\n",
        "*   33.5 > 1556 \n",
        "*   36.2 > 1692\n",
        "*   36.3 > 1697\n",
        "*   40.4 > 1770\n",
        "*   50.7 > 2241\n",
        "*   62.4 > 2512\n",
        "*   75.6 > 2851\n",
        "\n",
        "Sayılar tamamen hayal ürünüdür."
      ]
    },
    {
      "cell_type": "markdown",
      "metadata": {
        "id": "AuWB5QCZe6L1"
      },
      "source": [
        "# **Adım 2: Basit Bir Model Oluşturalım**"
      ]
    },
    {
      "cell_type": "code",
      "metadata": {
        "id": "bk1XZnk1JyMK"
      },
      "source": [
        "import numpy as np\n",
        "from sklearn.linear_model import LinearRegression\n",
        "import matplotlib\n",
        "import matplotlib.pyplot as plt\n",
        "\n",
        "matplotlib.rcParams[\"figure.dpi\"] = 100"
      ],
      "execution_count": 1,
      "outputs": []
    },
    {
      "cell_type": "code",
      "metadata": {
        "id": "IImwiGxdMMDa"
      },
      "source": [
        "T = np.array([30.0, 33.5, 36.2, 36.3, 40.4, 50.7, 62.4, 75.6], dtype=float).reshape(-1,1)\n",
        "S = np.array([1500.0, 1556.0, 1692.0, 1697.0, 1770.0, 2241.0, 2515.0, 2851.0], dtype=float).reshape(-1,1)"
      ],
      "execution_count": 2,
      "outputs": []
    },
    {
      "cell_type": "code",
      "metadata": {
        "colab": {
          "base_uri": "https://localhost:8080/",
          "height": 282
        },
        "id": "b4etSQZ3KT6l",
        "outputId": "2c873881-072a-4186-9284-477ebc59cb98"
      },
      "source": [
        "plt.scatter(T, S)"
      ],
      "execution_count": 3,
      "outputs": [
        {
          "output_type": "execute_result",
          "data": {
            "text/plain": [
              "<matplotlib.collections.PathCollection at 0x7fa0fe8ad240>"
            ]
          },
          "metadata": {
            "tags": []
          },
          "execution_count": 3
        },
        {
          "output_type": "display_data",
          "data": {
            "image/png": "[encoded data removed]",
            "text/plain": [
              "<Figure size 432x288 with 1 Axes>"
            ]
          },
          "metadata": {
            "tags": [],
            "needs_background": "light"
          }
        }
      ]
    },
    {
      "cell_type": "code",
      "metadata": {
        "colab": {
          "base_uri": "https://localhost:8080/"
        },
        "id": "LN8WqJdXJ6gy",
        "outputId": "05f92966-b471-4b44-c561-2ef8b444654a"
      },
      "source": [
        "model = LinearRegression()\n",
        "\n",
        "model.fit(T, S)"
      ],
      "execution_count": 4,
      "outputs": [
        {
          "output_type": "execute_result",
          "data": {
            "text/plain": [
              "LinearRegression(copy_X=True, fit_intercept=True, n_jobs=None, normalize=False)"
            ]
          },
          "metadata": {
            "tags": []
          },
          "execution_count": 4
        }
      ]
    },
    {
      "cell_type": "code",
      "metadata": {
        "id": "WRWcxv66Mtb0"
      },
      "source": [
        "test = np.array([55.2, 41.5, 70.0, 57.3]).reshape(-1,1)"
      ],
      "execution_count": 5,
      "outputs": []
    },
    {
      "cell_type": "markdown",
      "metadata": {
        "id": "RxvsZgloP31k"
      },
      "source": [
        "#**Adım 3: Eğitilmiş modeli test edelim**"
      ]
    },
    {
      "cell_type": "code",
      "metadata": {
        "colab": {
          "base_uri": "https://localhost:8080/"
        },
        "id": "hw3B6C_eJ7FG",
        "outputId": "ad7e2302-4194-42f1-c778-038d621837bb"
      },
      "source": [
        "predicted = model.predict(test)\n",
        "print(predicted)"
      ],
      "execution_count": 6,
      "outputs": [
        {
          "output_type": "stream",
          "text": [
            "[[2272.60648411]\n",
            " [1850.17157354]\n",
            " [2728.9595262 ]\n",
            " [2337.35928063]]\n"
          ],
          "name": "stdout"
        }
      ]
    },
    {
      "cell_type": "code",
      "metadata": {
        "colab": {
          "base_uri": "https://localhost:8080/",
          "height": 295
        },
        "id": "JFJuv5J9LxOC",
        "outputId": "f763c568-d11f-488b-c9c1-6116fa5aa6f2"
      },
      "source": [
        "plt.scatter(T, S, c='coral')\n",
        "plt.scatter(test, predicted, c='lightblue')\n",
        "\n",
        "plt.title('Sıcaklık vs. Devir sayısı')\n",
        "plt.xlabel('Sıcaklık')\n",
        "plt.ylabel('Fan devir hızı')\n",
        "plt.show()"
      ],
      "execution_count": 7,
      "outputs": [
        {
          "output_type": "display_data",
          "data": {
            "image/png": "[encoded data removed]",
            "text/plain": [
              "<Figure size 432x288 with 1 Axes>"
            ]
          },
          "metadata": {
            "tags": [],
            "needs_background": "light"
          }
        }
      ]
    }
  ]
}
