{
  "nbformat": 4,
  "nbformat_minor": 0,
  "metadata": {
    "colab": {
      "name": "python-turkce-baslangic.ipynb",
      "version": "0.3.2",
      "provenance": [],
      "collapsed_sections": [
        "PTAHQLZT676R",
        "NNuBO6bO676k",
        "nwS9wFGQ677T",
        "DuAK2VqV677V",
        "mGpcOZPC677p",
        "e7kQtwzD677t",
        "UtYuRtNI6772",
        "LaNwQCYW678K",
        "ct0A73Vz678p",
        "SzvCeQ3P6786",
        "zRSvC60r679G",
        "Bm13r-al679M",
        "pBw0NtmC679Q",
        "qN3x1ulv679o",
        "UheI9Iau67-K",
        "blV4fLzx67-N",
        "drTuqVch67-o",
        "BW_9crWx67-9",
        "Ykk1Ld9S67_C"
      ]
    },
    "kernelspec": {
      "display_name": "Python 3",
      "language": "python",
      "name": "python3"
    }
  },
  "cells": [
    {
      "metadata": {
        "id": "FSPDQrlU674-",
        "colab_type": "text"
      },
      "cell_type": "markdown",
      "source": [
        "# Python Türkçe Başlangıç"
      ]
    },
    {
      "metadata": {
        "id": "Rja8ggttg9OC",
        "colab_type": "text"
      },
      "cell_type": "markdown",
      "source": [
        "### [GOOGLE COLAB ÜZERİNDE ÇALIŞTIR!](https://colab.research.google.com/github/fuatbeser/python-notlarim/blob/master/python_turkce_baslangic.ipynb)"
      ]
    },
    {
      "metadata": {
        "id": "pMhg6t1k675D",
        "colab_type": "text"
      },
      "cell_type": "markdown",
      "source": [
        "## Referanslar\n",
        "\n",
        "- [CS231n Python Numpy Tutorial](http://cs231n.github.io/python-numpy-tutorial/)\n",
        "- [Python için Türkçe Kılavuz](https://belgeler.yazbel.com/python-istihza.pdf)"
      ]
    },
    {
      "metadata": {
        "id": "r9kM6ZMo675H",
        "colab_type": "text"
      },
      "cell_type": "markdown",
      "source": [
        "## Giriş"
      ]
    },
    {
      "metadata": {
        "id": "8YRuT1aA675R",
        "colab_type": "text"
      },
      "cell_type": "markdown",
      "source": [
        "Genel amaçlı bir programlama dili olan **Python**, bazı popüler kütüphanelerin (*Numpy, Scipy, Matplotlib* vb.) de yardımıyla  bilimsel hesaplamalar için harika bir ortam sunmaktadır.\n",
        "\n",
        "[Fuat Beşer](https://www.linkedin.com/in/fuatbeser/) tarafından üstte yer alan referanslar kullanılarak hazırlanmıştır."
      ]
    },
    {
      "metadata": {
        "id": "5MK_b7zS675T",
        "colab_type": "text"
      },
      "cell_type": "markdown",
      "source": [
        "### İçerik\n",
        "* [Python Temelleri](#Python-Temelleri)\n",
        " * [Python Versiyon Kontrolü](#Python-Versiyon-Kontrolü)\n",
        " * [Temel Veri Tipleri](#Temel-Veri-Tipleri) \n",
        "   * [Sayılar](#Sayılar)\n",
        "   * [Mantıksal Veriler](#Mantıksal-Veriler-(Booleans))   \n",
        "   * [Karakter Dizileri (Strings)](#Karakter-Dizileri-(Strings))\n",
        "  * [Listeler](#Listeler)\n",
        "  * [Dilimleme (Slicing)](#Dilimleme-(Slicing))\n",
        "  * [Döngüler](#Döngüler)\n",
        "  * [Sözlükler](#Sözlükler)\n",
        "  * [Kümeler (Sets)](#Kümeler-(Sets))\n",
        "  * [Demetler (Tuples)](#Demetler-(Tuples))\n",
        "  * [Fonksiyonlar](#Fonksiyonlar)\n",
        "  * [Sınıflar (Classes)](#Sınıflar-(Classes))\n",
        "* [Numpy](#Numpy)\n",
        " * [Diziler](#Diziler)\n",
        " * [Dizi İndeksleme](#Dizi-İndeksleme)\n",
        " * [Numpy Veri Tipleri](#Numpy-Veri-Tipleri)\n",
        " * [Dizilerde Matematiksel İşlemler](#Dizilerde-Matematiksel-İşlemler)\n",
        "   * [Toplama](#Toplama)\n",
        "   * [Çıkarma](#Çıkarma)\n",
        "   * [Çarpma](#Çarpma)\n",
        "   * [Bölme](#Bölme)\n",
        "   * [Kök Alma](#Kök-Alma)\n",
        "   * [Matris Çarpımı (Vektörel Çarpım)](#Matris-Çarpımı-(Vektörel-Çarpım))\n",
        "   * [Matris Elemanlarını Toplama](#Matris-Elemanlarını-Toplama)\n",
        "   * [Matris Transpozunu Alma](#Matris-Transpozu-Alma)\n",
        "   * [Broadcasting](#Broadcasting)\n",
        "* [Matplotlib](#Matplotlib)\n",
        " * [Çizdirme (Plotting)](#Çizdirme-(Plotting))\n",
        "   * [Sinüs Fonksiyonu](#Sinüs-Fonksiyonu)\n",
        " * [Alt Çizimler](#Alt-Çizimler-(Subplots))   "
      ]
    },
    {
      "metadata": {
        "id": "KRWMIJYz675W",
        "colab_type": "text"
      },
      "cell_type": "markdown",
      "source": [
        "## Python Temelleri"
      ]
    },
    {
      "metadata": {
        "id": "3Vcvj5uw675Y",
        "colab_type": "text"
      },
      "cell_type": "markdown",
      "source": [
        "Python, yüksek seviyeli bir programlama dilidir. Yazımı çok kolay olması nedeniyle dünya üzerinde çok fazla kişi tarafından kullanılmaktadır. Aşağıda bir dizi sayıyı küçükten büyüğe (ya da tam tersi) sıralamak için kullanılabilecek `sirala` fonksiyonunun Python programlama dilinde nasıl tanımlayabileceğimizi görebilirsiniz."
      ]
    },
    {
      "metadata": {
        "id": "qqf0XUDL675b",
        "colab_type": "code",
        "colab": {
          "base_uri": "https://localhost:8080/",
          "height": 34
        },
        "outputId": "6cd0c41b-0be9-4880-dc2a-9dfb7d33eafc"
      },
      "cell_type": "code",
      "source": [
        "def sirala(dizi):\n",
        "    if len(dizi) <= 1:\n",
        "        return dizi\n",
        "    referans = dizi[len(dizi) // 2]\n",
        "    sol = [x for x in dizi if x < referans]\n",
        "    orta = [x for x in dizi if x == referans]\n",
        "    sag = [x for x in dizi if x > referans]\n",
        "    return sirala(sol) + orta + sirala(sag)\n",
        "\n",
        "print (sirala([3,6,8,10,1,2,1]))"
      ],
      "execution_count": 4,
      "outputs": [
        {
          "output_type": "stream",
          "text": [
            "[1, 1, 2, 3, 6, 8, 10]\n"
          ],
          "name": "stdout"
        }
      ]
    },
    {
      "metadata": {
        "id": "ExKZ_5fK675m",
        "colab_type": "text"
      },
      "cell_type": "markdown",
      "source": [
        "### Python Versiyon Kontrolü"
      ]
    },
    {
      "metadata": {
        "id": "FFIeK5PM675o",
        "colab_type": "text"
      },
      "cell_type": "markdown",
      "source": [
        "Python 2 ve 3 olmak üzere iki sürüm mevcuttur. Kullandığınız Python sürümünü öğrenmek için komut satırından `python --version` komutunu çalıştırabilirsiniz."
      ]
    },
    {
      "metadata": {
        "id": "x4L2B0M-g9Of",
        "colab_type": "code",
        "colab": {
          "base_uri": "https://localhost:8080/",
          "height": 34
        },
        "outputId": "59c7a63c-4be3-4bec-faf6-6ebf3dc0bb37"
      },
      "cell_type": "code",
      "source": [
        "!python --version"
      ],
      "execution_count": 5,
      "outputs": [
        {
          "output_type": "stream",
          "text": [
            "Python 3.6.3\r\n"
          ],
          "name": "stdout"
        }
      ]
    },
    {
      "metadata": {
        "id": "9Kn8t4LM675p",
        "colab_type": "text"
      },
      "cell_type": "markdown",
      "source": [
        "### Temel Veri Tipleri"
      ]
    },
    {
      "metadata": {
        "id": "8Fr6B1Rq675r",
        "colab_type": "text"
      },
      "cell_type": "markdown",
      "source": [
        "#### Sayılar"
      ]
    },
    {
      "metadata": {
        "id": "CQ2yrZ3D675x",
        "colab_type": "text"
      },
      "cell_type": "markdown",
      "source": [
        "Tam ve ondalıklı sayılar diğer programlama dillerinde olduğu gibi tanımlanmaktadır. "
      ]
    },
    {
      "metadata": {
        "id": "KJbY-fBi675y",
        "colab_type": "code",
        "colab": {
          "base_uri": "https://localhost:8080/",
          "height": 68
        },
        "outputId": "9809e8df-4f7d-44c9-ef8c-911c8e850b48"
      },
      "cell_type": "code",
      "source": [
        "x = 3\n",
        "\n",
        "print(x) # x'i ekrana yazdırma\n",
        "print(type(x)) # x'in veri tipini ekrana yazdırma\n",
        "print (x, type(x)) # her ikisini birden ekrana yazdırma"
      ],
      "execution_count": 6,
      "outputs": [
        {
          "output_type": "stream",
          "text": [
            "3\n",
            "<class 'int'>\n",
            "3 <class 'int'>\n"
          ],
          "name": "stdout"
        }
      ]
    },
    {
      "metadata": {
        "id": "FpnT7z6S6759",
        "colab_type": "code",
        "colab": {
          "base_uri": "https://localhost:8080/",
          "height": 85
        },
        "outputId": "9e37746d-b4db-4040-d80d-44fd62c19ad5"
      },
      "cell_type": "code",
      "source": [
        "print (x + 1)   # toplama\n",
        "print (x - 1)   # çıkarma\n",
        "print (x * 2)   # çarpma\n",
        "print (x ** 2)  # üs alma"
      ],
      "execution_count": 7,
      "outputs": [
        {
          "output_type": "stream",
          "text": [
            "4\n",
            "2\n",
            "6\n",
            "9\n"
          ],
          "name": "stdout"
        }
      ]
    },
    {
      "metadata": {
        "id": "GaHrJDRH676E",
        "colab_type": "code",
        "colab": {
          "base_uri": "https://localhost:8080/",
          "height": 51
        },
        "outputId": "0d21677b-a1f8-4b63-aecb-8446283548dd"
      },
      "cell_type": "code",
      "source": [
        "x += 1 # x = x + 1 yerine\n",
        "print (x) # x'in eski değeri 3, yeni değeri 4 (x + 1)\n",
        "\n",
        "x *= 2 # x = x * 2 yerine\n",
        "print (x) # x'in eski değeri 4, yeni değeri 8 (x * 2) "
      ],
      "execution_count": 8,
      "outputs": [
        {
          "output_type": "stream",
          "text": [
            "4\n",
            "8\n"
          ],
          "name": "stdout"
        }
      ]
    },
    {
      "metadata": {
        "id": "NGQOOi0e676K",
        "colab_type": "code",
        "colab": {
          "base_uri": "https://localhost:8080/",
          "height": 51
        },
        "outputId": "70579c81-2614-4722-8362-726689ac7cc1"
      },
      "cell_type": "code",
      "source": [
        "y = 2.5\n",
        "print (type(y)) # \"<class 'float'>\"\n",
        "print (y, y + 1, y * 2, y ** 2) # \"2.5 3.5 5.0 6.25\""
      ],
      "execution_count": 9,
      "outputs": [
        {
          "output_type": "stream",
          "text": [
            "<class 'float'>\n",
            "2.5 3.5 5.0 6.25\n"
          ],
          "name": "stdout"
        }
      ]
    },
    {
      "metadata": {
        "id": "BfheGx_e676Q",
        "colab_type": "text"
      },
      "cell_type": "markdown",
      "source": [
        "**İPUCU**: Diğer programlama dillerinin aksine Python'da tekli artış (x++) ya da azalış (x--) operatörü yoktur. "
      ]
    },
    {
      "metadata": {
        "id": "PTAHQLZT676R",
        "colab_type": "text"
      },
      "cell_type": "markdown",
      "source": [
        "#### Mantıksal Veriler (Booleans)"
      ]
    },
    {
      "metadata": {
        "id": "dTyMhUTK676T",
        "colab_type": "text"
      },
      "cell_type": "markdown",
      "source": [
        "Python'da Boole cebri için `&&` ve `||` gibi semboller yerine `and`, `or` ve `not` gibi İngilizce kelimeler kullanılmaktadır."
      ]
    },
    {
      "metadata": {
        "id": "VGJk8-Gi676U",
        "colab_type": "code",
        "colab": {
          "base_uri": "https://localhost:8080/",
          "height": 54
        },
        "outputId": "71f15459-638e-4b28-becf-4965df64080e"
      },
      "cell_type": "code",
      "source": [
        "t, f = True, False\n",
        "print (type(t)) # Ekrana \"<type 'bool'>\" yazdırır"
      ],
      "execution_count": 10,
      "outputs": [
        {
          "output_type": "stream",
          "text": [
            "<class 'bool'>\n"
          ],
          "name": "stdout"
        }
      ]
    },
    {
      "metadata": {
        "id": "43moWQ8M676e",
        "colab_type": "text"
      },
      "cell_type": "markdown",
      "source": [
        "Temel mantık işlemleri:"
      ]
    },
    {
      "metadata": {
        "id": "xExtk_2a676f",
        "colab_type": "code",
        "colab": {
          "base_uri": "https://localhost:8080/",
          "height": 105
        },
        "outputId": "9bcc5f09-2eea-43ea-e256-26615a3a9293"
      },
      "cell_type": "code",
      "source": [
        "print (t and f) # Mantıksal AND;\n",
        "print (t or f)  # Mantıksal OR;\n",
        "print (not t)   # Mantıksal NOT;\n",
        "print (t != f)  # Mantıksal XOR;"
      ],
      "execution_count": 11,
      "outputs": [
        {
          "output_type": "stream",
          "text": [
            "False\n",
            "True\n",
            "False\n",
            "True\n"
          ],
          "name": "stdout"
        }
      ]
    },
    {
      "metadata": {
        "id": "NNuBO6bO676k",
        "colab_type": "text"
      },
      "cell_type": "markdown",
      "source": [
        "#### Karakter Dizileri (Strings)"
      ]
    },
    {
      "metadata": {
        "id": "_55-i1qT676l",
        "colab_type": "code",
        "colab": {
          "base_uri": "https://localhost:8080/",
          "height": 105
        },
        "outputId": "4c0c7aff-e0e4-4ae9-f28f-6e8ab2e8b204"
      },
      "cell_type": "code",
      "source": [
        "merhaba = 'merhaba' # tek tırnak da kullanılabilir\n",
        "dunya = \"dünya\" # çift tırnak da\n",
        "\n",
        "print(merhaba) # \"merhaba\" yazdırır\n",
        "print(len(merhaba)) # \"merhaba\" da kaç karakter olduğunu yazdırır\n",
        "print (merhaba, len(merhaba)) # ikisi birlikte\n",
        "# print (merhaba + len(merhaba)) # HATA VERECEK!\n",
        "print (merhaba + str(len(merhaba))) # sayıyı str() fonksiyonu ile string'e çevirelim"
      ],
      "execution_count": 12,
      "outputs": [
        {
          "output_type": "stream",
          "text": [
            "merhaba\n",
            "7\n",
            "merhaba 7\n",
            "merhaba7\n"
          ],
          "name": "stdout"
        }
      ]
    },
    {
      "metadata": {
        "id": "zNR4Eoeq6761",
        "colab_type": "code",
        "colab": {
          "base_uri": "https://localhost:8080/",
          "height": 54
        },
        "outputId": "bb07814d-eac5-4f35-f3cb-c0f51b330a2f"
      },
      "cell_type": "code",
      "source": [
        "m7 = '%s %d' % (merhaba, len(merhaba))  # önce veri tipi sonra değişkenler tanımlanabilir\n",
        "print (m7)  # ekrana \"merhaba dünya 7\" yazdırır"
      ],
      "execution_count": 13,
      "outputs": [
        {
          "output_type": "stream",
          "text": [
            "merhaba 7\n"
          ],
          "name": "stdout"
        }
      ]
    },
    {
      "metadata": {
        "id": "LxKA1i9B676p",
        "colab_type": "code",
        "colab": {
          "base_uri": "https://localhost:8080/",
          "height": 54
        },
        "outputId": "073afd40-c70c-43c2-82fb-3882abc7a0f5"
      },
      "cell_type": "code",
      "source": [
        "myz = \"merhaba\" + ' ' + \"yapay\" + ' ' + 'zeka'  # string birleştirme\n",
        "print (myz)  # ekrana \"merhaba yapay zeka\" yazdırır"
      ],
      "execution_count": 14,
      "outputs": [
        {
          "output_type": "stream",
          "text": [
            "merhaba yapay zeka\n"
          ],
          "name": "stdout"
        }
      ]
    },
    {
      "metadata": {
        "id": "uolhdhxK677J",
        "colab_type": "code",
        "colab": {
          "base_uri": "https://localhost:8080/",
          "height": 139
        },
        "outputId": "17ba696d-ee25-498d-f647-ad5543336182"
      },
      "cell_type": "code",
      "source": [
        "kelime = \"yapay zeka\"\n",
        "print (kelime.capitalize())  # İlk harf büyük \"Yapay zeka\"\n",
        "print (kelime.upper())       # Hepsi büyük \"YAPAY ZEKA\"\n",
        "print (kelime.rjust(15))     # Sağa yasla\n",
        "print (kelime.center(15))    # Merkeze ortala\n",
        "print (kelime.replace('zeka', 'zekalar'))  # \"zeka\"ları \"zekalar\" ile değiştirelim\n",
        "print ('        yapay zeka önemlidir :) '.strip())  # boşlukları silmek için strip() kullanılır"
      ],
      "execution_count": 15,
      "outputs": [
        {
          "output_type": "stream",
          "text": [
            "Yapay zeka\n",
            "YAPAY ZEKA\n",
            "     yapay zeka\n",
            "   yapay zeka  \n",
            "yapay zekalar\n",
            "yapay zeka önemlidir :)\n"
          ],
          "name": "stdout"
        }
      ]
    },
    {
      "metadata": {
        "id": "LlV-c6Eg677S",
        "colab_type": "text"
      },
      "cell_type": "markdown",
      "source": [
        "Listelerle ilgili daha fazla bilgi için [dokümanına](https://docs.python.org/3/library/string.html) bakabilirsiniz."
      ]
    },
    {
      "metadata": {
        "id": "DuAK2VqV677V",
        "colab_type": "text"
      },
      "cell_type": "markdown",
      "source": [
        "#### Listeler"
      ]
    },
    {
      "metadata": {
        "id": "LEX0Q940677W",
        "colab_type": "text"
      },
      "cell_type": "markdown",
      "source": [
        "Python'da yer alan listeler yeniden boyutlandırılabilir ve farklı tipte veri tiplerini saklayabilir.\n",
        "\n",
        "**İPUCU**: Listelerin ilk elemanlarının indisi 1 değil 0'dır. Yani `liste[1]` listenin ikinci elemanını belirtmektedir."
      ]
    },
    {
      "metadata": {
        "id": "LwjhSVUv677Z",
        "colab_type": "code",
        "colab": {
          "base_uri": "https://localhost:8080/",
          "height": 122
        },
        "outputId": "258e4b77-01ea-44bc-f3e9-6e4c853918e9"
      },
      "cell_type": "code",
      "source": [
        "listemiz = [3, 1, 2] # Liste oluşturma\n",
        "\n",
        "print (listemiz) # Listenin tamamını ekrana yazdıralım\n",
        "\n",
        "print (listemiz[0]) #Listenin ilk elemanını yazdıralım\n",
        "print (listemiz[1]) #Listenin ikinci elemanını yazdıralım\n",
        "\n",
        "print (listemiz[-1]) #Listenin son elemanının yazdıralım\n",
        "print (listemiz[-3]) #Listenin sondan iki önceki elemanının yazdıralım"
      ],
      "execution_count": 16,
      "outputs": [
        {
          "output_type": "stream",
          "text": [
            "[3, 1, 2]\n",
            "3\n",
            "1\n",
            "2\n",
            "3\n"
          ],
          "name": "stdout"
        }
      ]
    },
    {
      "metadata": {
        "id": "GZ0e_bgn677d",
        "colab_type": "code",
        "colab": {
          "base_uri": "https://localhost:8080/",
          "height": 54
        },
        "outputId": "1e41aa51-a9bd-4d53-9c38-fd194001dc77"
      },
      "cell_type": "code",
      "source": [
        "listemiz[2] = 'yapay' # Listelerde farklı veri tipleri tutulabilir\n",
        "\n",
        "print (listemiz)"
      ],
      "execution_count": 17,
      "outputs": [
        {
          "output_type": "stream",
          "text": [
            "[3, 1, 'yapay']\n"
          ],
          "name": "stdout"
        }
      ]
    },
    {
      "metadata": {
        "id": "PqQ1-vCT677h",
        "colab_type": "code",
        "colab": {
          "base_uri": "https://localhost:8080/",
          "height": 54
        },
        "outputId": "7511b148-486f-4504-a78d-0404f447bdd7"
      },
      "cell_type": "code",
      "source": [
        "listemiz.append('zeka') # Listenin sonuna `append` ile veri eklenebilir\n",
        "\n",
        "print (listemiz)  "
      ],
      "execution_count": 18,
      "outputs": [
        {
          "output_type": "stream",
          "text": [
            "[3, 1, 'yapay', 'zeka']\n"
          ],
          "name": "stdout"
        }
      ]
    },
    {
      "metadata": {
        "id": "oVOWz4mo677k",
        "colab_type": "code",
        "colab": {
          "base_uri": "https://localhost:8080/",
          "height": 71
        },
        "outputId": "1fce3784-44d8-43df-9f7a-59c8ae3e234d"
      },
      "cell_type": "code",
      "source": [
        "son_eleman = listemiz.pop() # Listenin son elemanını at ve atılan elamenı ekrana yazdır\n",
        "\n",
        "print(son_eleman)\n",
        "print(listemiz)"
      ],
      "execution_count": 19,
      "outputs": [
        {
          "output_type": "stream",
          "text": [
            "zeka\n",
            "[3, 1, 'yapay']\n"
          ],
          "name": "stdout"
        }
      ]
    },
    {
      "metadata": {
        "id": "mGpcOZPC677p",
        "colab_type": "text"
      },
      "cell_type": "markdown",
      "source": [
        "#### Dilimleme (Slicing)"
      ]
    },
    {
      "metadata": {
        "id": "S9tH5dNh677p",
        "colab_type": "text"
      },
      "cell_type": "markdown",
      "source": [
        "Liste elemamanlarına dilimleme yöntemi ile de ulaşabiliriz."
      ]
    },
    {
      "metadata": {
        "id": "Uzj9L69y677q",
        "colab_type": "code",
        "colab": {
          "base_uri": "https://localhost:8080/",
          "height": 156
        },
        "outputId": "e8b2aee1-1994-4e00-b2ea-0b8fc88b728b"
      },
      "cell_type": "code",
      "source": [
        "sayilar = list(range(5)) # Python'da ön-tanımlı 'range' fonksiyonu ile 0'dan 5'e kadar (5 hariç) tam sayı listesi oluşturalım\n",
        "print (sayilar)          # Listenin tamamını yazdıralım = \"[0, 1, 2, 3, 4]\" \n",
        "print (sayilar[2:4])     # Listenin 2. indisinden 4. indisine kadar olan dilimini yazdıralım = \"[2, 3]\"\n",
        "print (sayilar[2:])      # Listenin 2. indisinden en sona kadar olan dilimini yazdıralım = \"[2, 3, 4]\"\n",
        "print (sayilar[:2])      # Listenin en baştan 2. indise kadar olan dilimini yazdıralım =  \"[0, 1]\"\n",
        "print (sayilar[:])       # Listenin tamanını dilim olarak yazdıralım = [\"0, 1, 2, 3, 4]\"\n",
        "\n",
        "\n",
        "# Liste indisleri negatif olabilir. -1 listenin son elemanını verdiğinden, \n",
        "# en baştan listenin son elemanına kadar olan dilimi yazdıralım: \n",
        "print (sayilar[:-1])     \n",
        "\n",
        "sayilar[2:4] = [8, 9]    # Dilime yeni bir alt liste atayalım\n",
        "print (sayilar)          # Listenin yeni hali = \"[0, 1, 8, 9, 4]\""
      ],
      "execution_count": 20,
      "outputs": [
        {
          "output_type": "stream",
          "text": [
            "[0, 1, 2, 3, 4]\n",
            "[2, 3]\n",
            "[2, 3, 4]\n",
            "[0, 1]\n",
            "[0, 1, 2, 3, 4]\n",
            "[0, 1, 2, 3]\n",
            "[0, 1, 8, 9, 4]\n"
          ],
          "name": "stdout"
        }
      ]
    },
    {
      "metadata": {
        "id": "e7kQtwzD677t",
        "colab_type": "text"
      },
      "cell_type": "markdown",
      "source": [
        "#### Döngüler"
      ]
    },
    {
      "metadata": {
        "id": "rh9ae6_6677u",
        "colab_type": "text"
      },
      "cell_type": "markdown",
      "source": [
        "Liste elemanlarına döngü yardımıyla şu şekilde ulaşılabilir:"
      ]
    },
    {
      "metadata": {
        "id": "AK_BEniw677u",
        "colab_type": "code",
        "colab": {
          "base_uri": "https://localhost:8080/",
          "height": 105
        },
        "outputId": "356fcd2b-ec0e-4b01-9540-6272e2913574"
      },
      "cell_type": "code",
      "source": [
        "iller = ['istanbul', 'ankara', 'izmir', 'malatya']\n",
        "\n",
        "for il in iller:\n",
        "    print (il)"
      ],
      "execution_count": 21,
      "outputs": [
        {
          "output_type": "stream",
          "text": [
            "istanbul\n",
            "ankara\n",
            "izmir\n",
            "malatya\n"
          ],
          "name": "stdout"
        }
      ]
    },
    {
      "metadata": {
        "id": "gvLSrDBH677y",
        "colab_type": "text"
      },
      "cell_type": "markdown",
      "source": [
        "Döngü içerisinde her bir liste elemanının indeks değerine ulaşmak için `enumerate` fonksiyonunu kullanabilirsiniz."
      ]
    },
    {
      "metadata": {
        "id": "8RBEpUQ9677y",
        "colab_type": "code",
        "colab": {
          "base_uri": "https://localhost:8080/",
          "height": 105
        },
        "outputId": "0d96782f-51d4-46d9-ed15-1f5e11d7e00a"
      },
      "cell_type": "code",
      "source": [
        "iller = ['İstanbul', 'Ankara', 'İzmir', 'Malatya']\n",
        "\n",
        "for sira, iller in enumerate(iller):\n",
        "    print ('%d: %s' % (sira + 1, iller))"
      ],
      "execution_count": 22,
      "outputs": [
        {
          "output_type": "stream",
          "text": [
            "1: İstanbul\n",
            "2: Ankara\n",
            "3: İzmir\n",
            "4: Malatya\n"
          ],
          "name": "stdout"
        }
      ]
    },
    {
      "metadata": {
        "id": "UtYuRtNI6772",
        "colab_type": "text"
      },
      "cell_type": "markdown",
      "source": [
        "#### Listeler Arası Dönüşüm\n",
        "\n",
        "Liste elemanlarının tamamı üzerinde işlemler yapabiliriz."
      ]
    },
    {
      "metadata": {
        "id": "mu7oiCsbg9P6",
        "colab_type": "text"
      },
      "cell_type": "markdown",
      "source": [
        "#### Listenin Karesini Alma"
      ]
    },
    {
      "metadata": {
        "id": "1q8uHGAM6773",
        "colab_type": "code",
        "colab": {
          "base_uri": "https://localhost:8080/",
          "height": 34
        },
        "outputId": "17fdcdc8-3850-4602-e6fb-61a65da3ef2f"
      },
      "cell_type": "code",
      "source": [
        "rakamlar = [0, 1, 2, 3, 4, 5, 6, 7]\n",
        "kareler = []\n",
        "\n",
        "for rakam in rakamlar:\n",
        "    kareler.append(rakam ** 2) # append ile sona ekleme yapıyoruz.\n",
        "\n",
        "print (kareler)"
      ],
      "execution_count": 23,
      "outputs": [
        {
          "output_type": "stream",
          "text": [
            "[0, 1, 4, 9, 16, 25, 36, 49]\n"
          ],
          "name": "stdout"
        }
      ]
    },
    {
      "metadata": {
        "id": "x-dS_UuH6779",
        "colab_type": "text"
      },
      "cell_type": "markdown",
      "source": [
        "Bu işlemi şu şekilde de kolaylıkla yapabiliriz."
      ]
    },
    {
      "metadata": {
        "id": "nPBWO8YS678D",
        "colab_type": "code",
        "colab": {
          "base_uri": "https://localhost:8080/",
          "height": 34
        },
        "outputId": "bfcad550-0763-43c8-bf0c-21a40b0b8393"
      },
      "cell_type": "code",
      "source": [
        "rakamlar = [0, 1, 2, 3, 4, 5, 6, 7]\n",
        "kareler = [rakam ** 2 \n",
        "           for rakam in rakamlar]\n",
        "\n",
        "print (kareler)"
      ],
      "execution_count": 24,
      "outputs": [
        {
          "output_type": "stream",
          "text": [
            "[0, 1, 4, 9, 16, 25, 36, 49]\n"
          ],
          "name": "stdout"
        }
      ]
    },
    {
      "metadata": {
        "id": "wzcqae6s678H",
        "colab_type": "text"
      },
      "cell_type": "markdown",
      "source": [
        "Listeler arası dönüşüm yaparken koşul da ekleyebiliriz."
      ]
    },
    {
      "metadata": {
        "id": "HEef47F7678H",
        "colab_type": "code",
        "colab": {
          "base_uri": "https://localhost:8080/",
          "height": 51
        },
        "outputId": "b6f688c0-eb74-45a9-9bf1-ca509cf3cc27"
      },
      "cell_type": "code",
      "source": [
        "rakamlar = [0, 1, 2, 3, 4, 5, 6, 7]\n",
        "\n",
        "cift_kareler = [rakam ** 2 \n",
        "                for rakam in rakamlar \n",
        "                if rakam % 2 == 0]\n",
        "tek_kareler = [rakam ** 2 \n",
        "               for rakam in rakamlar \n",
        "               if rakam % 2 == 1]\n",
        "\n",
        "print (cift_kareler)\n",
        "print (tek_kareler)"
      ],
      "execution_count": 25,
      "outputs": [
        {
          "output_type": "stream",
          "text": [
            "[0, 4, 16, 36]\n",
            "[1, 9, 25, 49]\n"
          ],
          "name": "stdout"
        }
      ]
    },
    {
      "metadata": {
        "id": "LaNwQCYW678K",
        "colab_type": "text"
      },
      "cell_type": "markdown",
      "source": [
        "#### Sözlükler"
      ]
    },
    {
      "metadata": {
        "id": "PfzxddFc678L",
        "colab_type": "text"
      },
      "cell_type": "markdown",
      "source": [
        "Bir Python sözlüğünde anahtar (`key`) ve değer (`value`) saklanmaktadır."
      ]
    },
    {
      "metadata": {
        "id": "6XXH3Mcb678L",
        "colab_type": "code",
        "colab": {
          "base_uri": "https://localhost:8080/",
          "height": 71
        },
        "outputId": "5dae6caf-534d-4016-90f3-2e6d18b3939a"
      },
      "cell_type": "code",
      "source": [
        "meshur = {'Kayseri': 'Mantı', 'Amasya': 'Elma', 'Malatya': 'Kayısı'}  # Sözlük oluşturalım\n",
        "\n",
        "print (meshur['Malatya']) # \"Malatya\" anahtar değerine ait değer ekrana yazdırılır.\n",
        "print ('Amasya' in meshur) # \"Amasya\" anahtar değeri sözlüğümüzde varsa \"True\" döndürür. "
      ],
      "execution_count": 26,
      "outputs": [
        {
          "output_type": "stream",
          "text": [
            "Kayısı\n",
            "True\n"
          ],
          "name": "stdout"
        }
      ]
    },
    {
      "metadata": {
        "id": "w2_b3pJC678P",
        "colab_type": "code",
        "colab": {
          "base_uri": "https://localhost:8080/",
          "height": 54
        },
        "outputId": "2d1b4d3d-62f4-49d1-f42d-44ec28f7879d"
      },
      "cell_type": "code",
      "source": [
        "meshur['İstanbul'] = 'Trafik' # Sözlüğe yeni bir girdi ekleyelim.\n",
        "\n",
        "print (meshur['İstanbul']) # İstanbul ne ile meşhur?"
      ],
      "execution_count": 27,
      "outputs": [
        {
          "output_type": "stream",
          "text": [
            "Trafik\n"
          ],
          "name": "stdout"
        }
      ]
    },
    {
      "metadata": {
        "id": "XU5bDAtA678S",
        "colab_type": "code",
        "colab": {}
      },
      "cell_type": "code",
      "source": [
        "#print (meshur['Ankara'])  # KeyError: 'Ankara' not a key of d\n",
        "\n",
        "# Ankara diye bir anahtar değerimiz olmadığı için hata verir!"
      ],
      "execution_count": 0,
      "outputs": []
    },
    {
      "metadata": {
        "id": "71meVCZug9QI",
        "colab_type": "text"
      },
      "cell_type": "markdown",
      "source": [
        "Sözlüğün içinde bir değer varsa onu getirmesini, yoksa N/A versin istiyorsak `get` yöntemini kullanabiliriz."
      ]
    },
    {
      "metadata": {
        "id": "X5ldIT_o678V",
        "colab_type": "code",
        "colab": {
          "base_uri": "https://localhost:8080/",
          "height": 71
        },
        "outputId": "4a982b17-11b7-4000-a3b1-be96a6f7fece"
      },
      "cell_type": "code",
      "source": [
        "print (meshur.get('Ankara', 'N/A')) # \"N/A\" döndürür\n",
        "print (meshur.get('Amasya', 'N/A')) # \"Elma\" döndürür"
      ],
      "execution_count": 29,
      "outputs": [
        {
          "output_type": "stream",
          "text": [
            "N/A\n",
            "Elma\n"
          ],
          "name": "stdout"
        }
      ]
    },
    {
      "metadata": {
        "id": "w6ZEz1mo678a",
        "colab_type": "code",
        "colab": {
          "base_uri": "https://localhost:8080/",
          "height": 54
        },
        "outputId": "c628582d-8dd7-4df9-e830-4b1753153236"
      },
      "cell_type": "code",
      "source": [
        "del meshur['Amasya']        # Sözlükten bir değeri silelim.\n",
        "print (meshur.get('Amasya', 'N/A')) # \"Amasya\" silindiği için \"N/A\" döndürür."
      ],
      "execution_count": 30,
      "outputs": [
        {
          "output_type": "stream",
          "text": [
            "N/A\n"
          ],
          "name": "stdout"
        }
      ]
    },
    {
      "metadata": {
        "id": "Fdc1u1ipg9QN",
        "colab_type": "code",
        "colab": {
          "base_uri": "https://localhost:8080/",
          "height": 54
        },
        "outputId": "906f7372-bee8-41ab-fb72-2d5eca4f539a"
      },
      "cell_type": "code",
      "source": [
        "meshur"
      ],
      "execution_count": 31,
      "outputs": [
        {
          "output_type": "execute_result",
          "data": {
            "text/plain": [
              "{'Kayseri': 'Mantı', 'Malatya': 'Kayısı', 'İstanbul': 'Trafik'}"
            ]
          },
          "metadata": {
            "tags": []
          },
          "execution_count": 31
        }
      ]
    },
    {
      "metadata": {
        "id": "wHauFaOD678c",
        "colab_type": "text"
      },
      "cell_type": "markdown",
      "source": [
        "Sözlüklerle ilgili daha fazla bilgi için [dokümana](https://docs.python.org/3/tutorial/datastructures.html#dictionaries) bakabilirsiniz."
      ]
    },
    {
      "metadata": {
        "id": "JELVcmGP678d",
        "colab_type": "text"
      },
      "cell_type": "markdown",
      "source": [
        "Sözlük üzerinde `for` döngüsü ile gezinmek mümkündür. "
      ]
    },
    {
      "metadata": {
        "id": "C9ruJOys678d",
        "colab_type": "code",
        "colab": {
          "base_uri": "https://localhost:8080/",
          "height": 88
        },
        "outputId": "9a47f84e-8811-4599-9ca0-5be353181226"
      },
      "cell_type": "code",
      "source": [
        "canlilar = {'İnsan': 2, 'Kedi': 4, 'Örümcek': 8}\n",
        "\n",
        "for canli in canlilar:\n",
        "    ayak = canlilar[canli]\n",
        "    print('%s, %d ayağa sahiptir.' % (canli, ayak))"
      ],
      "execution_count": 32,
      "outputs": [
        {
          "output_type": "stream",
          "text": [
            "İnsan, 2 ayağa sahiptir.\n",
            "Kedi, 4 ayağa sahiptir.\n",
            "Örümcek, 8 ayağa sahiptir.\n"
          ],
          "name": "stdout"
        }
      ]
    },
    {
      "metadata": {
        "id": "lIzRQoUo678g",
        "colab_type": "text"
      },
      "cell_type": "markdown",
      "source": [
        "Sözlük değerlerine `items()` yöntemiyle de ulaşabiliriz."
      ]
    },
    {
      "metadata": {
        "id": "MJkUk7o4678h",
        "colab_type": "code",
        "colab": {
          "base_uri": "https://localhost:8080/",
          "height": 88
        },
        "outputId": "4024f634-09fa-4e11-956e-9a79c3b3dbc6"
      },
      "cell_type": "code",
      "source": [
        "canlilar = {'İnsan': 2, 'Kedi': 4, 'Örümcek': 8}\n",
        "\n",
        "for canli, ayak in canlilar.items():\n",
        "    print ('%s, %d ayağa sahiptir.' % (canli, ayak))"
      ],
      "execution_count": 33,
      "outputs": [
        {
          "output_type": "stream",
          "text": [
            "İnsan, 2 ayağa sahiptir.\n",
            "Kedi, 4 ayağa sahiptir.\n",
            "Örümcek, 8 ayağa sahiptir.\n"
          ],
          "name": "stdout"
        }
      ]
    },
    {
      "metadata": {
        "id": "gZqZiFNe678m",
        "colab_type": "text"
      },
      "cell_type": "markdown",
      "source": [
        "#### Sözlük Dönüşümü\n",
        "\n",
        "Listelerden sözlük oluşturabiliriz."
      ]
    },
    {
      "metadata": {
        "id": "l0SQvsLT678m",
        "colab_type": "code",
        "colab": {
          "base_uri": "https://localhost:8080/",
          "height": 34
        },
        "outputId": "844d3918-643f-489d-9099-716aa3439b88"
      },
      "cell_type": "code",
      "source": [
        "sayilar = [0, 1, 2, 3, 4, 5, 6, 7, 8, 9]\n",
        "cift_kare = {x: x ** 2 for x in sayilar  if x % 2 == 0}\n",
        "print (cift_kare)"
      ],
      "execution_count": 34,
      "outputs": [
        {
          "output_type": "stream",
          "text": [
            "{0: 0, 2: 4, 4: 16, 6: 36, 8: 64}\n"
          ],
          "name": "stdout"
        }
      ]
    },
    {
      "metadata": {
        "id": "-_i23c1Kg9QZ",
        "colab_type": "text"
      },
      "cell_type": "markdown",
      "source": [
        "**İPUCU**: Listelerin köşeli parantez `[]`, sözlüklerin ise süslü parantez `{}` ile tanımlandığını unutmayın."
      ]
    },
    {
      "metadata": {
        "id": "ct0A73Vz678p",
        "colab_type": "text"
      },
      "cell_type": "markdown",
      "source": [
        "#### Kümeler (Sets)"
      ]
    },
    {
      "metadata": {
        "id": "vNZyJBgM678q",
        "colab_type": "text"
      },
      "cell_type": "markdown",
      "source": [
        "Kümeleri de süslü parantez ile tanımlarız. Listelerden en büyük farklı sıralı olmamasıdır. "
      ]
    },
    {
      "metadata": {
        "id": "_OP2UEYu678q",
        "colab_type": "code",
        "colab": {
          "base_uri": "https://localhost:8080/",
          "height": 71
        },
        "outputId": "e64caebd-1642-4929-be44-18fd861a3490"
      },
      "cell_type": "code",
      "source": [
        "hayvanlar = {'kedi', 'köpek'}\n",
        "\n",
        "print ('kedi' in hayvanlar)   # Kümede o elemanın olup olmadığına bakalım = \"True\"\n",
        "print ('balık' in hayvanlar)  # Kümede o elemanın olup olmadığına bakalım = \"False\""
      ],
      "execution_count": 35,
      "outputs": [
        {
          "output_type": "stream",
          "text": [
            "True\n",
            "False\n"
          ],
          "name": "stdout"
        }
      ]
    },
    {
      "metadata": {
        "id": "OzWCwG3J678t",
        "colab_type": "code",
        "colab": {
          "base_uri": "https://localhost:8080/",
          "height": 71
        },
        "outputId": "778f7fdf-b987-458c-98a9-0fe157ac3348"
      },
      "cell_type": "code",
      "source": [
        "hayvanlar.add('balık')       # Kümeye eleman ekleyelim\n",
        "print ('balık' in hayvanlar)\n",
        "\n",
        "print (len(hayvanlar))       # Kümenin eleman sayısını ekrana yazdıralım"
      ],
      "execution_count": 36,
      "outputs": [
        {
          "output_type": "stream",
          "text": [
            "True\n",
            "3\n"
          ],
          "name": "stdout"
        }
      ]
    },
    {
      "metadata": {
        "id": "frKetwK4678w",
        "colab_type": "code",
        "colab": {
          "base_uri": "https://localhost:8080/",
          "height": 71
        },
        "outputId": "93da38db-71eb-4942-9729-e2d01ae886aa"
      },
      "cell_type": "code",
      "source": [
        "hayvanlar.add('kedi')       # Kedi zaten olduğu için değişen bir şey olmayacak\n",
        "print (len(hayvanlar))       \n",
        "hayvanlar.remove('kedi')    # Kümeden bir elemanı kaldıralım.\n",
        "print (len(hayvanlar))       "
      ],
      "execution_count": 37,
      "outputs": [
        {
          "output_type": "stream",
          "text": [
            "3\n",
            "2\n"
          ],
          "name": "stdout"
        }
      ]
    },
    {
      "metadata": {
        "id": "WheWc5ey678z",
        "colab_type": "text"
      },
      "cell_type": "markdown",
      "source": [
        "_Döngüler_: Küme elemanlarına da `for` döngüsü ile ulaşabiliriz. Fakat kümelerin sıralı listeler olmadığını unutmayın. Örneğin aşağıda _kedi köpek balık_ sırasıyla tanımladığımız kümenin elemanlarına ulaşmaya çalıştığımızda hangi sıra olacak sizce? "
      ]
    },
    {
      "metadata": {
        "id": "3xfvgtNA6780",
        "colab_type": "code",
        "colab": {
          "base_uri": "https://localhost:8080/",
          "height": 88
        },
        "outputId": "70c8ac51-ca4d-47d6-9f15-37c8412a3c1b"
      },
      "cell_type": "code",
      "source": [
        "hayvanlar = {'kedi', 'köpek', 'balık'}\n",
        "\n",
        "for sira, hayvan in enumerate(hayvanlar):\n",
        "    print ('#%d: %s' % (sira + 1, hayvan))    "
      ],
      "execution_count": 38,
      "outputs": [
        {
          "output_type": "stream",
          "text": [
            "#1: balık\n",
            "#2: kedi\n",
            "#3: köpek\n"
          ],
          "name": "stdout"
        }
      ]
    },
    {
      "metadata": {
        "id": "E4KVAgQr6783",
        "colab_type": "text"
      },
      "cell_type": "markdown",
      "source": [
        "Liste ve sözlük dönüşümlerine benzer bir şekilde hızlıca küme oluşturabiliriz."
      ]
    },
    {
      "metadata": {
        "id": "cP9_9bK46783",
        "colab_type": "code",
        "colab": {
          "base_uri": "https://localhost:8080/",
          "height": 54
        },
        "outputId": "a2ce3c1b-f387-4d79-c8f5-c210a829623f"
      },
      "cell_type": "code",
      "source": [
        "from math import sqrt\n",
        "\n",
        "print ({sqrt(x) for x in list(range(30))})"
      ],
      "execution_count": 39,
      "outputs": [
        {
          "output_type": "stream",
          "text": [
            "{0.0, 1.0, 2.0, 1.7320508075688772, 1.4142135623730951, 2.23606797749979, 2.449489742783178, 2.6457513110645907, 2.8284271247461903, 3.0, 3.1622776601683795, 3.3166247903554, 3.4641016151377544, 4.0, 5.0, 4.47213595499958, 4.795831523312719, 4.898979485566356, 5.0990195135927845, 5.196152422706632, 5.291502622129181, 3.7416573867739413, 3.872983346207417, 4.123105625617661, 4.242640687119285, 4.358898943540674, 4.58257569495584, 4.69041575982343, 5.385164807134504, 3.605551275463989}\n"
          ],
          "name": "stdout"
        }
      ]
    },
    {
      "metadata": {
        "id": "uGoOh8mqg9Qi",
        "colab_type": "text"
      },
      "cell_type": "markdown",
      "source": [
        "**İPUCU**: Kümeler sıralı listeler olmadığı için köklü değerleri sıralı olarak göremeyeceksiniz."
      ]
    },
    {
      "metadata": {
        "id": "SzvCeQ3P6786",
        "colab_type": "text"
      },
      "cell_type": "markdown",
      "source": [
        "#### Demetler (Tuples)"
      ]
    },
    {
      "metadata": {
        "id": "p-skzG_96786",
        "colab_type": "text"
      },
      "cell_type": "markdown",
      "source": [
        "Demetler sabit (değişmez) sıralı değerlerden oluşan listelerdir. Demetlerin listelerden en büyük farkı, listeler sözlüklerde anahtar (key) olarak ya da kümelerin elemanı olarak kullanılabilmektedir. Listeler bu şekilde kullanılamazlar.\n",
        "\n",
        "**İPUCU**: Demetler normal parantez `()`ile tanımlanır."
      ]
    },
    {
      "metadata": {
        "id": "wG4JWdaF6787",
        "colab_type": "code",
        "colab": {
          "base_uri": "https://localhost:8080/",
          "height": 207
        },
        "outputId": "239d7042-fbe2-41ba-d1f5-b66382fe9680"
      },
      "cell_type": "code",
      "source": [
        "sozluk = {(x, x + 1): x for x in range(10)}  # Demetlerin anahtar olduğu bir sözlük oluşturalım\n",
        "\n",
        "sozluk"
      ],
      "execution_count": 40,
      "outputs": [
        {
          "output_type": "execute_result",
          "data": {
            "text/plain": [
              "{(0, 1): 0,\n",
              " (1, 2): 1,\n",
              " (2, 3): 2,\n",
              " (3, 4): 3,\n",
              " (4, 5): 4,\n",
              " (5, 6): 5,\n",
              " (6, 7): 6,\n",
              " (7, 8): 7,\n",
              " (8, 9): 8,\n",
              " (9, 10): 9}"
            ]
          },
          "metadata": {
            "tags": []
          },
          "execution_count": 40
        }
      ]
    },
    {
      "metadata": {
        "id": "L5xKVqlPg9Ql",
        "colab_type": "code",
        "colab": {
          "base_uri": "https://localhost:8080/",
          "height": 88
        },
        "outputId": "ec1917ae-ee06-43a6-8c44-912ccd20f045"
      },
      "cell_type": "code",
      "source": [
        "demet = (5, 6)       # Demet oluşturalım.\n",
        "print (type(demet))\n",
        "print (sozluk[demet]) # t demeti kaçıncı elemandır?       \n",
        "print (sozluk[(1, 2)]) # (1, 2) demeti kaçıncı elemandır?"
      ],
      "execution_count": 41,
      "outputs": [
        {
          "output_type": "stream",
          "text": [
            "<class 'tuple'>\n",
            "5\n",
            "1\n"
          ],
          "name": "stdout"
        }
      ]
    },
    {
      "metadata": {
        "id": "Men1uVfb679B",
        "colab_type": "code",
        "colab": {
          "base_uri": "https://localhost:8080/",
          "height": 71
        },
        "outputId": "b41303d9-4c3a-4761-f54e-1a7fd6973791"
      },
      "cell_type": "code",
      "source": [
        "print(demet[1]) # demetin ikinci elemanına ulaşalım\n",
        "\n",
        "print(demet[0]) # demetin ilk elemanına ulaşalım"
      ],
      "execution_count": 42,
      "outputs": [
        {
          "output_type": "stream",
          "text": [
            "6\n",
            "5\n"
          ],
          "name": "stdout"
        }
      ]
    },
    {
      "metadata": {
        "id": "zRSvC60r679G",
        "colab_type": "text"
      },
      "cell_type": "markdown",
      "source": [
        "### Fonksiyonlar"
      ]
    },
    {
      "metadata": {
        "id": "4UxE6oEr679H",
        "colab_type": "text"
      },
      "cell_type": "markdown",
      "source": [
        "Python'da fonksiyonlar  `def` anahtar kelimesi ile tanımlanır. \n",
        "\n",
        "Fonksiyon isiminden sonra parantez içerisinde giriş değerleri sonra da *iki nokta üst üste* konulur. \n",
        "\n",
        "Örnek olarak bir sayının pozitif, negatif ya da sıfır olup olmadığını kontrol eden `isaret` fonksiyonunu tanımlayalım:"
      ]
    },
    {
      "metadata": {
        "id": "7VPkd05d679H",
        "colab_type": "code",
        "colab": {
          "base_uri": "https://localhost:8080/",
          "height": 88
        },
        "outputId": "1d2ba2fe-a519-4e8a-b9d7-283568062c5f"
      },
      "cell_type": "code",
      "source": [
        "def isaret(x):\n",
        "    if x > 0:\n",
        "        return 'pozitif'\n",
        "    elif x < 0:\n",
        "        return 'negatif'\n",
        "    else:\n",
        "        return 'sifir'\n",
        "\n",
        "for x in [-1, 0, 1]:\n",
        "    print (isaret(x))"
      ],
      "execution_count": 43,
      "outputs": [
        {
          "output_type": "stream",
          "text": [
            "negatif\n",
            "sifir\n",
            "pozitif\n"
          ],
          "name": "stdout"
        }
      ]
    },
    {
      "metadata": {
        "id": "Y7kgWgHD679K",
        "colab_type": "text"
      },
      "cell_type": "markdown",
      "source": [
        "Fonksiyonlarda **isteğe bağlı (opsiyonel)** parametreler tanımlamak mümkündür."
      ]
    },
    {
      "metadata": {
        "id": "JCf-kMsw679L",
        "colab_type": "code",
        "colab": {
          "base_uri": "https://localhost:8080/",
          "height": 71
        },
        "outputId": "79b8f64b-823e-4b3c-e70c-16ebb0b4cb67"
      },
      "cell_type": "code",
      "source": [
        "def merhaba(isim, buyukHarf = False):\n",
        "    if buyukHarf:\n",
        "        print ('MERHABA, %s' % isim.upper())\n",
        "    else:\n",
        "        print ('Merhaba, %s!' % isim)\n",
        "\n",
        "merhaba('Fuat')\n",
        "merhaba('Fuat', buyukHarf = True)"
      ],
      "execution_count": 44,
      "outputs": [
        {
          "output_type": "stream",
          "text": [
            "Merhaba, Fuat!\n",
            "MERHABA, FUAT\n"
          ],
          "name": "stdout"
        }
      ]
    },
    {
      "metadata": {
        "id": "Bm13r-al679M",
        "colab_type": "text"
      },
      "cell_type": "markdown",
      "source": [
        "### Sınıflar (Classes)"
      ]
    },
    {
      "metadata": {
        "id": "cC4JBHCf679M",
        "colab_type": "text"
      },
      "cell_type": "markdown",
      "source": [
        "Python'da sınıfları şu şekilde tanımlarız:"
      ]
    },
    {
      "metadata": {
        "id": "f1p7mDD6679N",
        "colab_type": "code",
        "colab": {
          "base_uri": "https://localhost:8080/",
          "height": 71
        },
        "outputId": "e526d409-d282-4b2f-c75b-76d7a2853ab6"
      },
      "cell_type": "code",
      "source": [
        "class Karsilayici:\n",
        "\n",
        "    # Oluşturma\n",
        "    def __init__(self, isim):\n",
        "        self.isim = isim  # Örnek (instance) değişkeni tanımlayalım\n",
        "\n",
        "    # Örnek (instance) yöntemi\n",
        "    def selam(self, buyukHarf = False):\n",
        "        if buyukHarf:\n",
        "            print ('MERHABA, %s!' % self.isim.upper())\n",
        "        else:\n",
        "            print ('Merhaba, %s' % self.isim)\n",
        "\n",
        "g = Karsilayici('Fuat')     # Karşılayıcı sınıfında bir örnek oluşturalım \n",
        "g.selam()                   # Merhaba, Fuat\n",
        "g.selam(buyukHarf = True)   # MERHABA, FUAT!"
      ],
      "execution_count": 45,
      "outputs": [
        {
          "output_type": "stream",
          "text": [
            "Merhaba, Fuat\n",
            "MERHABA, FUAT!\n"
          ],
          "name": "stdout"
        }
      ]
    },
    {
      "metadata": {
        "id": "3tyVUT0s679P",
        "colab_type": "text"
      },
      "cell_type": "markdown",
      "source": [
        "## Numpy"
      ]
    },
    {
      "metadata": {
        "id": "BlStqyyR679P",
        "colab_type": "text"
      },
      "cell_type": "markdown",
      "source": [
        "Numpy bilimsel hesaplamalarda sıklıkla kullanılan Python'un temel kütüphanelerinden bir tanesidir."
      ]
    },
    {
      "metadata": {
        "id": "6pe8151F679P",
        "colab_type": "text"
      },
      "cell_type": "markdown",
      "source": [
        "`Numpy` kütüphanesini kullanabilmek için öncelikle `import` kullanarak çağırmamız gerekir."
      ]
    },
    {
      "metadata": {
        "id": "bhhKXC0O679Q",
        "colab_type": "code",
        "colab": {}
      },
      "cell_type": "code",
      "source": [
        "import numpy as np"
      ],
      "execution_count": 0,
      "outputs": []
    },
    {
      "metadata": {
        "id": "pBw0NtmC679Q",
        "colab_type": "text"
      },
      "cell_type": "markdown",
      "source": [
        "### Diziler"
      ]
    },
    {
      "metadata": {
        "id": "qyh89byi679R",
        "colab_type": "code",
        "colab": {
          "base_uri": "https://localhost:8080/",
          "height": 88
        },
        "outputId": "f3fd48f7-31cb-4332-8373-79464d1b53f0"
      },
      "cell_type": "code",
      "source": [
        "a = np.array([1, 2, 3])  # Birinci dereceden dizi tanımlayalım\n",
        "\n",
        "print (type(a), a.shape) # Dizinin veri tipini ve boyutunu yazdıralım\n",
        "print(a[0], a[1], a[2])  # Dizinin her bir elemanını ayrı ayrı yazdıralım\n",
        "\n",
        "a[0] = 5                 # Dizinin ilk elamanını 5 ile değiştirelim\n",
        "print (a)                  "
      ],
      "execution_count": 47,
      "outputs": [
        {
          "output_type": "stream",
          "text": [
            "<class 'numpy.ndarray'> (3,)\n",
            "1 2 3\n",
            "[5 2 3]\n"
          ],
          "name": "stdout"
        }
      ]
    },
    {
      "metadata": {
        "id": "7RJq5boB679U",
        "colab_type": "code",
        "colab": {
          "base_uri": "https://localhost:8080/",
          "height": 71
        },
        "outputId": "e4931d9e-ff1b-41e0-8ccb-8ee250d4a328"
      },
      "cell_type": "code",
      "source": [
        "b = np.array([[1,2,3],[4,5,6]])   # İkinci dereceden dizi tanımlayalım\n",
        "print (b)"
      ],
      "execution_count": 48,
      "outputs": [
        {
          "output_type": "stream",
          "text": [
            "[[1 2 3]\n",
            " [4 5 6]]\n"
          ],
          "name": "stdout"
        }
      ]
    },
    {
      "metadata": {
        "id": "DBWAivu1g9Q9",
        "colab_type": "text"
      },
      "cell_type": "markdown",
      "source": [
        "**İPUCU**: Köşeli parantez sayısının dereceyi (rank) verdiğine dikkat edin."
      ]
    },
    {
      "metadata": {
        "id": "Dq6MueDU679X",
        "colab_type": "code",
        "colab": {
          "base_uri": "https://localhost:8080/",
          "height": 71
        },
        "outputId": "450d92d1-bba1-4ce9-a484-98fa23c032a4"
      },
      "cell_type": "code",
      "source": [
        "print (b.shape)                   \n",
        "print (b[0, 0], b[0, 1], b[1, 0])"
      ],
      "execution_count": 49,
      "outputs": [
        {
          "output_type": "stream",
          "text": [
            "(2, 3)\n",
            "1 2 4\n"
          ],
          "name": "stdout"
        }
      ]
    },
    {
      "metadata": {
        "id": "MB0NUUzk679Z",
        "colab_type": "text"
      },
      "cell_type": "markdown",
      "source": [
        "Farklı dizileri de tanımlayabiliriz."
      ]
    },
    {
      "metadata": {
        "id": "XrnnqJCj679Z",
        "colab_type": "code",
        "colab": {
          "base_uri": "https://localhost:8080/",
          "height": 71
        },
        "outputId": "23c7f8c5-a4f8-419e-bcee-cdfdde29ed01"
      },
      "cell_type": "code",
      "source": [
        "a = np.zeros((2,2))  # Tüm elemanları \"sıfır\" olan 2 x 2 boyutlu dizi\n",
        "print (a)"
      ],
      "execution_count": 50,
      "outputs": [
        {
          "output_type": "stream",
          "text": [
            "[[0. 0.]\n",
            " [0. 0.]]\n"
          ],
          "name": "stdout"
        }
      ]
    },
    {
      "metadata": {
        "id": "ooJNhDeT679e",
        "colab_type": "code",
        "colab": {
          "base_uri": "https://localhost:8080/",
          "height": 54
        },
        "outputId": "63825f54-2e5c-46cf-c484-0d81a80abf0f"
      },
      "cell_type": "code",
      "source": [
        "b = np.ones((1,2))   # Tüm elemanları \"bir\" olan 1 x 2 boyutlu dizi\n",
        "print (b)"
      ],
      "execution_count": 51,
      "outputs": [
        {
          "output_type": "stream",
          "text": [
            "[[1. 1.]]\n"
          ],
          "name": "stdout"
        }
      ]
    },
    {
      "metadata": {
        "id": "w2JY1I_s679g",
        "colab_type": "code",
        "colab": {
          "base_uri": "https://localhost:8080/",
          "height": 71
        },
        "outputId": "3cd70b56-7c11-4465-d2a0-7802620722d8"
      },
      "cell_type": "code",
      "source": [
        "c = np.full((2,2), 7) # Tüm elemanları \"yedi\" olan 2 x 2 boyutlu dizi\n",
        "print (c) "
      ],
      "execution_count": 52,
      "outputs": [
        {
          "output_type": "stream",
          "text": [
            "[[7 7]\n",
            " [7 7]]\n"
          ],
          "name": "stdout"
        }
      ]
    },
    {
      "metadata": {
        "id": "mEq6W3DE679i",
        "colab_type": "code",
        "colab": {
          "base_uri": "https://localhost:8080/",
          "height": 105
        },
        "outputId": "43be83f3-24f6-4c31-c57a-8b9f912f286a"
      },
      "cell_type": "code",
      "source": [
        "d = np.eye(4)        # 2 x 2 boyutlu birim matris\n",
        "print (d)"
      ],
      "execution_count": 53,
      "outputs": [
        {
          "output_type": "stream",
          "text": [
            "[[1. 0. 0. 0.]\n",
            " [0. 1. 0. 0.]\n",
            " [0. 0. 1. 0.]\n",
            " [0. 0. 0. 1.]]\n"
          ],
          "name": "stdout"
        }
      ]
    },
    {
      "metadata": {
        "id": "ZLCxF4qP679m",
        "colab_type": "code",
        "colab": {
          "base_uri": "https://localhost:8080/",
          "height": 71
        },
        "outputId": "f63cc532-39d1-428d-e958-d0eaca915220"
      },
      "cell_type": "code",
      "source": [
        "e = np.random.random((2,2)) # 2 x 2 boyutlu rastgele değerlerden oluşan matris\n",
        "print (e)"
      ],
      "execution_count": 54,
      "outputs": [
        {
          "output_type": "stream",
          "text": [
            "[[0.63173381 0.31635496]\n",
            " [0.1355978  0.42092305]]\n"
          ],
          "name": "stdout"
        }
      ]
    },
    {
      "metadata": {
        "id": "qN3x1ulv679o",
        "colab_type": "text"
      },
      "cell_type": "markdown",
      "source": [
        "### Dizi İndeksleme"
      ]
    },
    {
      "metadata": {
        "id": "laez-d6T679p",
        "colab_type": "text"
      },
      "cell_type": "markdown",
      "source": [
        "Numpy dizilerde indeksleme yapmak için farklı seçenekler sunmaktadır."
      ]
    },
    {
      "metadata": {
        "id": "Za0yPj1X679p",
        "colab_type": "text"
      },
      "cell_type": "markdown",
      "source": [
        "Dilimleme (Slicing): Python listelerine de dilimlenebilir. Diziler çok boyutlu olduğu için her bir boyut için dilimi belirlemek gerekmektedir."
      ]
    },
    {
      "metadata": {
        "id": "iI-f9hgk679q",
        "colab_type": "code",
        "colab": {
          "base_uri": "https://localhost:8080/",
          "height": 71
        },
        "outputId": "6b55efa4-d835-428d-8aa1-ed0349598875"
      },
      "cell_type": "code",
      "source": [
        "import numpy as np\n",
        "\n",
        "# 2. dereceden (rank) boyutu (3, 4) olan dizi tanımlayalım.\n",
        "\n",
        "# [[ 1  2  3  4]\n",
        "#  [ 5  6  7  8]\n",
        "#  [ 9 10 11 12]]\n",
        "\n",
        "a = np.array([[1,2,3,4], \n",
        "              [5,6,7,8], \n",
        "              [9,10,11,12]])\n",
        "\n",
        "# Dilimleme kullanarak ilk iki satırı ve \n",
        "# 1. ve 2. sütunları içeren alt-dizi oluşturalım.\n",
        "# Alt-dizinin boyutu (2, 2) olacaktır.\n",
        "\n",
        "# [[2 3]\n",
        "#  [6 7]]\n",
        "\n",
        "b = a[:2, 1:3] # 0. ve 1. satır / 1. ve 2. sütun\n",
        "print (b)"
      ],
      "execution_count": 55,
      "outputs": [
        {
          "output_type": "stream",
          "text": [
            "[[2 3]\n",
            " [6 7]]\n"
          ],
          "name": "stdout"
        }
      ]
    },
    {
      "metadata": {
        "id": "mJYUr_Cqg9RX",
        "colab_type": "code",
        "colab": {
          "base_uri": "https://localhost:8080/",
          "height": 88
        },
        "outputId": "1e7aa93c-f72c-4726-875a-50041f99fbdf"
      },
      "cell_type": "code",
      "source": [
        "a"
      ],
      "execution_count": 56,
      "outputs": [
        {
          "output_type": "execute_result",
          "data": {
            "text/plain": [
              "array([[ 1,  2,  3,  4],\n",
              "       [ 5,  6,  7,  8],\n",
              "       [ 9, 10, 11, 12]])"
            ]
          },
          "metadata": {
            "tags": []
          },
          "execution_count": 56
        }
      ]
    },
    {
      "metadata": {
        "id": "oPuQtPXN679s",
        "colab_type": "text"
      },
      "cell_type": "markdown",
      "source": [
        "**İPUCU**: Dilimi, orijinal veriden aldığımız için dilim üzerinde yaptığımız değişik orijinal veriye etki eder."
      ]
    },
    {
      "metadata": {
        "id": "jqcOi0P7679t",
        "colab_type": "code",
        "colab": {
          "base_uri": "https://localhost:8080/",
          "height": 71
        },
        "outputId": "fc24df33-9f7a-4c13-de03-aae9a342e6f1"
      },
      "cell_type": "code",
      "source": [
        "print (a[0, 1])  \n",
        "b[0, 0] = 77    # b[0, 0] ile aslında a[0, 1]'yı işaret ediyoruz\n",
        "print (a[0, 1]) "
      ],
      "execution_count": 57,
      "outputs": [
        {
          "output_type": "stream",
          "text": [
            "2\n",
            "77\n"
          ],
          "name": "stdout"
        }
      ]
    },
    {
      "metadata": {
        "id": "BLWI50ET679v",
        "colab_type": "code",
        "colab": {
          "base_uri": "https://localhost:8080/",
          "height": 88
        },
        "outputId": "2c8ba466-2111-4db9-e94e-f2535adf82ed"
      },
      "cell_type": "code",
      "source": [
        "# 3 x 4 boyutunda 2. dereceden bir dizi oluşturalım\n",
        "a = np.array([[1,2,3,4], [5,6,7,8], [9,10,11,12]])\n",
        "print (a)"
      ],
      "execution_count": 58,
      "outputs": [
        {
          "output_type": "stream",
          "text": [
            "[[ 1  2  3  4]\n",
            " [ 5  6  7  8]\n",
            " [ 9 10 11 12]]\n"
          ],
          "name": "stdout"
        }
      ]
    },
    {
      "metadata": {
        "id": "ohzEt565g9Rc",
        "colab_type": "text"
      },
      "cell_type": "markdown",
      "source": [
        "Oluşturduğumuz dizinin ortadaki (ikinci) satırına nasıl ulaşabiliriz? Dereceler farklı olmak üzere üç farklı yöntem vardır."
      ]
    },
    {
      "metadata": {
        "id": "2Jyy07rc679x",
        "colab_type": "code",
        "colab": {
          "base_uri": "https://localhost:8080/",
          "height": 88
        },
        "outputId": "8db3dc40-bf44-4474-8726-76c5b13cae24"
      },
      "cell_type": "code",
      "source": [
        "satir_v1 = a[1, :]    # İkinci satırın 1. dereceden görünüşü  \n",
        "satir_v2 = a[1:2, :]  # İkinci satırın 2. dereceden görünüşü  \n",
        "satir_v3 = a[[1], :]  # İkinci satırın 2. dereceden görünüşü  \n",
        "\n",
        "print (satir_v1, satir_v1.shape) \n",
        "print (satir_v2, satir_v2.shape)\n",
        "print (satir_v3, satir_v3.shape)"
      ],
      "execution_count": 59,
      "outputs": [
        {
          "output_type": "stream",
          "text": [
            "[5 6 7 8] (4,)\n",
            "[[5 6 7 8]] (1, 4)\n",
            "[[5 6 7 8]] (1, 4)\n"
          ],
          "name": "stdout"
        }
      ]
    },
    {
      "metadata": {
        "id": "X8OxJzjPg9Rd",
        "colab_type": "text"
      },
      "cell_type": "markdown",
      "source": [
        "Aynı yöntem sütunlar için de geçerlidir."
      ]
    },
    {
      "metadata": {
        "id": "iR1_tZNf6790",
        "colab_type": "code",
        "colab": {
          "base_uri": "https://localhost:8080/",
          "height": 105
        },
        "outputId": "d0846b09-7fb6-4dcb-ef58-e15edb0ccde7"
      },
      "cell_type": "code",
      "source": [
        "sutun_v1 = a[:, 1]\n",
        "sutun_v2 = a[:, 1:2]\n",
        "\n",
        "print (sutun_v1, sutun_v1.shape) # 1. derece\n",
        "print (sutun_v2, sutun_v2.shape) # 2. derece"
      ],
      "execution_count": 60,
      "outputs": [
        {
          "output_type": "stream",
          "text": [
            "[ 2  6 10] (3,)\n",
            "[[ 2]\n",
            " [ 6]\n",
            " [10]] (3, 1)\n"
          ],
          "name": "stdout"
        }
      ]
    },
    {
      "metadata": {
        "id": "ORZDiWGKg9Re",
        "colab_type": "text"
      },
      "cell_type": "markdown",
      "source": [
        "**İPUCU**: Yukarıdaki örnekte gördüğünüz gibi normalde dikey olan sütun dizisi 1. dereceden olduğu zaman satır ya da sütun olabilmektedir. İndekslemede problemle karşılaşmamak için tavsiyem 1. dereceden dizileri kullanmaktan mümkün olduğunca kaçınmanız."
      ]
    },
    {
      "metadata": {
        "id": "1NJFB0Sm6792",
        "colab_type": "text"
      },
      "cell_type": "markdown",
      "source": [
        "Dizilerde önce satırları sonra da sütunları indeksleyebileceğimiz gibi ayrı ayrı da indeksleme yapabiliriz."
      ]
    },
    {
      "metadata": {
        "id": "jEoxS9QB6792",
        "colab_type": "code",
        "colab": {
          "base_uri": "https://localhost:8080/",
          "height": 71
        },
        "outputId": "350907dc-8528-4826-a3c0-24b85d24eacb"
      },
      "cell_type": "code",
      "source": [
        "a = np.array([[1,2], [3, 4], [5, 6]])\n",
        "\n",
        "# a[0,0], a[1,1] ve a[2,0]'ı indekslemek için  \n",
        "print (a[[0, 1, 2], [0, 1, 0]])\n",
        "\n",
        "# Ayrı ayrı indeksleme yapalım\n",
        "print (np.array([a[0, 0], a[1, 1], a[2, 0]]))"
      ],
      "execution_count": 61,
      "outputs": [
        {
          "output_type": "stream",
          "text": [
            "[1 4 5]\n",
            "[1 4 5]\n"
          ],
          "name": "stdout"
        }
      ]
    },
    {
      "metadata": {
        "id": "HDyz8vd1679-",
        "colab_type": "text"
      },
      "cell_type": "markdown",
      "source": [
        "One useful trick with integer array indexing is selecting or mutating one element from each row of a matrix:"
      ]
    },
    {
      "metadata": {
        "id": "MnRBMkEk679_",
        "colab_type": "code",
        "colab": {
          "base_uri": "https://localhost:8080/",
          "height": 105
        },
        "outputId": "05383290-86ed-4399-9109-527b4515b934"
      },
      "cell_type": "code",
      "source": [
        "a = np.array([[1,2,3], [4,5,6], [7,8,9], [10, 11, 12]])\n",
        "print (a)"
      ],
      "execution_count": 62,
      "outputs": [
        {
          "output_type": "stream",
          "text": [
            "[[ 1  2  3]\n",
            " [ 4  5  6]\n",
            " [ 7  8  9]\n",
            " [10 11 12]]\n"
          ],
          "name": "stdout"
        }
      ]
    },
    {
      "metadata": {
        "id": "mrx4ydsK67-A",
        "colab_type": "code",
        "colab": {
          "base_uri": "https://localhost:8080/",
          "height": 54
        },
        "outputId": "e0f87ea3-b523-4039-9df3-e80a7fffaf5d"
      },
      "cell_type": "code",
      "source": [
        "# İndis dizisi oluşturalım\n",
        "indis = np.array([0, 2, 0, 1])\n",
        "\n",
        "# Her satırdan sırasıyla indis dizisini kullanarak değerleri seçelim \n",
        "print (a[np.arange(4), indis])  # \"[ 1  6  7 11]\""
      ],
      "execution_count": 63,
      "outputs": [
        {
          "output_type": "stream",
          "text": [
            "[ 1  6  7 11]\n"
          ],
          "name": "stdout"
        }
      ]
    },
    {
      "metadata": {
        "id": "DbEgMwYAg9Rj",
        "colab_type": "code",
        "colab": {
          "base_uri": "https://localhost:8080/",
          "height": 105
        },
        "outputId": "620b9352-9efb-4d39-b6b7-2697ebf9ddf9"
      },
      "cell_type": "code",
      "source": [
        "print(a)"
      ],
      "execution_count": 64,
      "outputs": [
        {
          "output_type": "stream",
          "text": [
            "[[ 1  2  3]\n",
            " [ 4  5  6]\n",
            " [ 7  8  9]\n",
            " [10 11 12]]\n"
          ],
          "name": "stdout"
        }
      ]
    },
    {
      "metadata": {
        "id": "O_NBDN5667-C",
        "colab_type": "code",
        "colab": {
          "base_uri": "https://localhost:8080/",
          "height": 105
        },
        "outputId": "2f886ecb-eb4c-4ae0-96e9-f1b360e464ba"
      },
      "cell_type": "code",
      "source": [
        "# İndis dizisini kullanarak elemanlara 10 ekleyelim.\n",
        "a[np.arange(4), indis] += 10\n",
        "\n",
        "print (a)"
      ],
      "execution_count": 65,
      "outputs": [
        {
          "output_type": "stream",
          "text": [
            "[[11  2  3]\n",
            " [ 4  5 16]\n",
            " [17  8  9]\n",
            " [10 21 12]]\n"
          ],
          "name": "stdout"
        }
      ]
    },
    {
      "metadata": {
        "id": "EMM7fRu067-E",
        "colab_type": "text"
      },
      "cell_type": "markdown",
      "source": [
        "Boolean dizi indeksleme: Belirtilen koşulu sağlayan elemanları bulmak için Boolean dizi indeksleme kullanılır."
      ]
    },
    {
      "metadata": {
        "id": "rv6txP5667-E",
        "colab_type": "code",
        "colab": {
          "base_uri": "https://localhost:8080/",
          "height": 139
        },
        "outputId": "4d69918e-a8c1-49bd-e282-99e7bad94f43"
      },
      "cell_type": "code",
      "source": [
        "import numpy as np\n",
        "\n",
        "a = np.array([[1,2], [3, 4], [5, 6]])\n",
        "\n",
        "print(a)\n",
        "\n",
        "ikidenBuyuk = (a > 2)  # 2'den büyük olanları seçelim\n",
        "                    # a dizisi ile aynı boyuttu yeni bir dizis oluşturur\n",
        "                    # 2'den büyük ise True, küçük ise False döndürür\n",
        "\n",
        "print (ikidenBuyuk)"
      ],
      "execution_count": 66,
      "outputs": [
        {
          "output_type": "stream",
          "text": [
            "[[1 2]\n",
            " [3 4]\n",
            " [5 6]]\n",
            "[[False False]\n",
            " [ True  True]\n",
            " [ True  True]]\n"
          ],
          "name": "stdout"
        }
      ]
    },
    {
      "metadata": {
        "id": "B2E9Kp8_67-H",
        "colab_type": "code",
        "colab": {
          "base_uri": "https://localhost:8080/",
          "height": 71
        },
        "outputId": "cec1b047-db7f-4b4c-9222-fa9864ce8df6"
      },
      "cell_type": "code",
      "source": [
        "# Boolean indeksleme kullanarak bulduğumuz değerleri yazdıralım\n",
        "print (a[ikidenBuyuk])\n",
        "\n",
        "# 2'den büyük olanları şu şekilde de bulabiliriz.\n",
        "print (a[a > 2])"
      ],
      "execution_count": 67,
      "outputs": [
        {
          "output_type": "stream",
          "text": [
            "[3 4 5 6]\n",
            "[3 4 5 6]\n"
          ],
          "name": "stdout"
        }
      ]
    },
    {
      "metadata": {
        "id": "UheI9Iau67-K",
        "colab_type": "text"
      },
      "cell_type": "markdown",
      "source": [
        "### Numpy Veri Tipleri"
      ]
    },
    {
      "metadata": {
        "id": "hnwHGIZg67-L",
        "colab_type": "text"
      },
      "cell_type": "markdown",
      "source": [
        "Numpy ile bir dizi oluşturduğunuzda veri tipi tahmin edilmeye çalışılır."
      ]
    },
    {
      "metadata": {
        "id": "TpRtBqkq67-L",
        "colab_type": "code",
        "colab": {
          "base_uri": "https://localhost:8080/",
          "height": 54
        },
        "outputId": "2dbd21d6-1895-48b5-f93f-fabaa49de41c"
      },
      "cell_type": "code",
      "source": [
        "x = np.array([1, 2])  # Veri tipini Numpy seçsin\n",
        "y = np.array([1.0, 2.0])  # Veri tipini Numpy seçsin\n",
        "z = np.array([1, 2], dtype=np.int64)  # Veri tipini BİZ belirleyelim\n",
        "\n",
        "# Veri tiplerini ekrana yazdıralım\n",
        "print (x.dtype, y.dtype, z.dtype)"
      ],
      "execution_count": 68,
      "outputs": [
        {
          "output_type": "stream",
          "text": [
            "int64 float64 int64\n"
          ],
          "name": "stdout"
        }
      ]
    },
    {
      "metadata": {
        "id": "e5XtmK8U67-N",
        "colab_type": "text"
      },
      "cell_type": "markdown",
      "source": [
        "Diğer Numpy veri tiplerine [orijinal dokümanından](http://docs.scipy.org/doc/numpy/reference/arrays.dtypes.html) bakabilirsiniz."
      ]
    },
    {
      "metadata": {
        "id": "blV4fLzx67-N",
        "colab_type": "text"
      },
      "cell_type": "markdown",
      "source": [
        "### Dizilerde Matematiksel İşlemler"
      ]
    },
    {
      "metadata": {
        "id": "ENt83Yu667-O",
        "colab_type": "text"
      },
      "cell_type": "markdown",
      "source": [
        "Dizilerde temel matematiksel işlemler şu şekilde yapılır."
      ]
    },
    {
      "metadata": {
        "id": "TJA-XnsDg9Rt",
        "colab_type": "text"
      },
      "cell_type": "markdown",
      "source": [
        "#### Toplama"
      ]
    },
    {
      "metadata": {
        "id": "VaJIIyJB67-O",
        "colab_type": "code",
        "colab": {
          "base_uri": "https://localhost:8080/",
          "height": 105
        },
        "outputId": "3222283a-81b1-4538-e3d8-d2e18a695891"
      },
      "cell_type": "code",
      "source": [
        "x = np.array([[1,2],[3,4]], dtype=np.float64)\n",
        "y = np.array([[5,6],[7,8]], dtype=np.float64)\n",
        "\n",
        "print (x + y)\n",
        "print (np.add(x, y))"
      ],
      "execution_count": 69,
      "outputs": [
        {
          "output_type": "stream",
          "text": [
            "[[ 6.  8.]\n",
            " [10. 12.]]\n",
            "[[ 6.  8.]\n",
            " [10. 12.]]\n"
          ],
          "name": "stdout"
        }
      ]
    },
    {
      "metadata": {
        "id": "PfU7L9K8g9Rv",
        "colab_type": "text"
      },
      "cell_type": "markdown",
      "source": [
        "**İPUCU**: `np.add` ile `x + y` aynı sonucu verir!"
      ]
    },
    {
      "metadata": {
        "id": "p3FZmHm-g9Rv",
        "colab_type": "text"
      },
      "cell_type": "markdown",
      "source": [
        "#### Çıkarma"
      ]
    },
    {
      "metadata": {
        "id": "RLvyzh7M67-R",
        "colab_type": "code",
        "colab": {
          "base_uri": "https://localhost:8080/",
          "height": 105
        },
        "outputId": "a3211129-3798-41b0-f656-0621a52f22cd"
      },
      "cell_type": "code",
      "source": [
        "print (x - y)\n",
        "print (np.subtract(x, y))\n",
        "\n",
        "# Her ikisi de aynı sonucu veriyor!"
      ],
      "execution_count": 70,
      "outputs": [
        {
          "output_type": "stream",
          "text": [
            "[[-4. -4.]\n",
            " [-4. -4.]]\n",
            "[[-4. -4.]\n",
            " [-4. -4.]]\n"
          ],
          "name": "stdout"
        }
      ]
    },
    {
      "metadata": {
        "id": "AuzuPj99g9Rx",
        "colab_type": "text"
      },
      "cell_type": "markdown",
      "source": [
        "**İPUCU**: `np.subtracy` ile `x - y` aynı sonucu verir!"
      ]
    },
    {
      "metadata": {
        "id": "7tI32tNug9Rx",
        "colab_type": "text"
      },
      "cell_type": "markdown",
      "source": [
        "#### Çarpma"
      ]
    },
    {
      "metadata": {
        "id": "thMJ8lUH67-U",
        "colab_type": "code",
        "colab": {
          "base_uri": "https://localhost:8080/",
          "height": 105
        },
        "outputId": "16eda498-e8cd-4a7a-c40b-5a7912fe9feb"
      },
      "cell_type": "code",
      "source": [
        "print (x * y)\n",
        "print (np.multiply(x, y))\n",
        "\n",
        "# Her ikisi de aynı sonucu veriyor!"
      ],
      "execution_count": 71,
      "outputs": [
        {
          "output_type": "stream",
          "text": [
            "[[ 5. 12.]\n",
            " [21. 32.]]\n",
            "[[ 5. 12.]\n",
            " [21. 32.]]\n"
          ],
          "name": "stdout"
        }
      ]
    },
    {
      "metadata": {
        "id": "DZQxvkWPg9Rz",
        "colab_type": "text"
      },
      "cell_type": "markdown",
      "source": [
        "**İPUCU**: `np.multiply` ile `x * y` aynı sonucu verir!"
      ]
    },
    {
      "metadata": {
        "id": "vNIBMccqg9Rz",
        "colab_type": "text"
      },
      "cell_type": "markdown",
      "source": [
        "#### Bölme"
      ]
    },
    {
      "metadata": {
        "id": "yVaF1spU67-V",
        "colab_type": "code",
        "colab": {
          "base_uri": "https://localhost:8080/",
          "height": 105
        },
        "outputId": "74810852-27c2-4f36-bd83-93e32ff3a136"
      },
      "cell_type": "code",
      "source": [
        "print (x / y)\n",
        "print (np.divide(x, y))\n",
        "\n",
        "# Her ikisi de aynı sonucu veriyor!"
      ],
      "execution_count": 72,
      "outputs": [
        {
          "output_type": "stream",
          "text": [
            "[[0.2        0.33333333]\n",
            " [0.42857143 0.5       ]]\n",
            "[[0.2        0.33333333]\n",
            " [0.42857143 0.5       ]]\n"
          ],
          "name": "stdout"
        }
      ]
    },
    {
      "metadata": {
        "id": "usj32Gx0g9R1",
        "colab_type": "text"
      },
      "cell_type": "markdown",
      "source": [
        "**İPUCU**: `np.divide` ile `x / y` aynı sonucu verir!"
      ]
    },
    {
      "metadata": {
        "id": "otuWfv2xg9R1",
        "colab_type": "text"
      },
      "cell_type": "markdown",
      "source": [
        "#### Kök Alma"
      ]
    },
    {
      "metadata": {
        "id": "z30SOixk67-Y",
        "colab_type": "code",
        "colab": {
          "base_uri": "https://localhost:8080/",
          "height": 71
        },
        "outputId": "06430460-e51e-465b-e378-be6ba0ecf919"
      },
      "cell_type": "code",
      "source": [
        "print (np.sqrt(x))"
      ],
      "execution_count": 73,
      "outputs": [
        {
          "output_type": "stream",
          "text": [
            "[[1.         1.41421356]\n",
            " [1.73205081 2.        ]]\n"
          ],
          "name": "stdout"
        }
      ]
    },
    {
      "metadata": {
        "id": "tXA82gMH67-a",
        "colab_type": "text"
      },
      "cell_type": "markdown",
      "source": [
        "**İPUCU**: Her bir matris elemanının, diğer matriste o elemanın konumunda bulunan elemanla çarpılmasını istiyorsak `*` kullanırız. Matris çarpımı yapmak istiyorsak `dot` kullanmak gerekiyor."
      ]
    },
    {
      "metadata": {
        "id": "YFWdqVt8g9R3",
        "colab_type": "text"
      },
      "cell_type": "markdown",
      "source": [
        "#### Matris Çarpımı (Vektörel Çarpım)\n",
        "\n",
        "Öncelikle matrislerde çarpım işleminin nasıl yapıldığını bilmiyorsanız ya da unuttuysanız [şu videoyu](https://www.youtube.com/watch?v=8gDh7MO7yo8) izlemenizi tavsiye ederim."
      ]
    },
    {
      "metadata": {
        "id": "kzhj16Q-67-a",
        "colab_type": "code",
        "colab": {}
      },
      "cell_type": "code",
      "source": [
        "x = np.array([[1, 2],[3, 4]])\n",
        "y = np.array([[5, 6],[7, 8]])\n",
        "\n",
        "v = np.array([9, 10])\n",
        "w = np.array([11, 12])"
      ],
      "execution_count": 0,
      "outputs": []
    },
    {
      "metadata": {
        "id": "xesvwnYig9R5",
        "colab_type": "code",
        "colab": {
          "base_uri": "https://localhost:8080/",
          "height": 71
        },
        "outputId": "a38d8c0d-d3e4-47f3-c449-2167068d60dc"
      },
      "cell_type": "code",
      "source": [
        "# v ve w vektörlerini çarpmak için\n",
        "print (v.dot(w))\n",
        "print (np.dot(v, w))"
      ],
      "execution_count": 75,
      "outputs": [
        {
          "output_type": "stream",
          "text": [
            "219\n",
            "219\n"
          ],
          "name": "stdout"
        }
      ]
    },
    {
      "metadata": {
        "id": "pvI6z2OV67-c",
        "colab_type": "code",
        "colab": {
          "base_uri": "https://localhost:8080/",
          "height": 71
        },
        "outputId": "94fb512d-7c04-41b6-ac06-9ec5e445424e"
      },
      "cell_type": "code",
      "source": [
        "# x matrisi ile v vektörünü çarpmak için\n",
        "print (x.dot(v))\n",
        "print (np.dot(x, v))"
      ],
      "execution_count": 76,
      "outputs": [
        {
          "output_type": "stream",
          "text": [
            "[29 67]\n",
            "[29 67]\n"
          ],
          "name": "stdout"
        }
      ]
    },
    {
      "metadata": {
        "id": "EF-vZJsW67-f",
        "colab_type": "code",
        "colab": {
          "base_uri": "https://localhost:8080/",
          "height": 105
        },
        "outputId": "c2a7587d-72d8-40b3-d9fb-9f693d2a0bf0"
      },
      "cell_type": "code",
      "source": [
        "# x ve y matrislerini çarpmak için\n",
        "print (x.dot(y))\n",
        "print (np.dot(x, y))"
      ],
      "execution_count": 77,
      "outputs": [
        {
          "output_type": "stream",
          "text": [
            "[[19 22]\n",
            " [43 50]]\n",
            "[[19 22]\n",
            " [43 50]]\n"
          ],
          "name": "stdout"
        }
      ]
    },
    {
      "metadata": {
        "id": "g5XmrT4Vg9R-",
        "colab_type": "text"
      },
      "cell_type": "markdown",
      "source": [
        "#### Matris Elemanlarını Toplama "
      ]
    },
    {
      "metadata": {
        "id": "6CcY5LPt67-h",
        "colab_type": "text"
      },
      "cell_type": "markdown",
      "source": [
        "Numpy'da yer alan `np.sum` ile belirli bir eksende toplama işlemleri gerçekleştirebiliriz."
      ]
    },
    {
      "metadata": {
        "id": "fgE8AwzO67-h",
        "colab_type": "code",
        "colab": {
          "base_uri": "https://localhost:8080/",
          "height": 88
        },
        "outputId": "1e3fed84-d338-488f-9698-7a9e8293ca9a"
      },
      "cell_type": "code",
      "source": [
        "x = np.array([[1,2],[3,4]])\n",
        "\n",
        "print (np.sum(x))          # Tüm matris elemanlarının toplamını ekrana yazdırır.\n",
        "print (np.sum(x, axis=0))  # Sütun toplamlarını ekrana yazdırır\n",
        "print (np.sum(x, axis=1))  # Satır toplamlarını ekrana yazdırır"
      ],
      "execution_count": 78,
      "outputs": [
        {
          "output_type": "stream",
          "text": [
            "10\n",
            "[4 6]\n",
            "[3 7]\n"
          ],
          "name": "stdout"
        }
      ]
    },
    {
      "metadata": {
        "id": "oWyS3TTP67-j",
        "colab_type": "text"
      },
      "cell_type": "markdown",
      "source": [
        "Tüm matematiksel işlemlere [dokümandan](http://docs.scipy.org/doc/numpy/reference/routines.math.html) ulaşabilirsiniz."
      ]
    },
    {
      "metadata": {
        "id": "phYsOp1dg9SA",
        "colab_type": "text"
      },
      "cell_type": "markdown",
      "source": [
        "#### Matris Transpozu Alma\n",
        "\n",
        "Matris transpozunun nasıl alındığını merak ediyorsanız [şu videoyu](https://www.youtube.com/watch?v=0sc8y60Jq04) izlemenizi tavsiye ediyorum. Transpoz almak için `.T` eklemeniz yeterli olacaktır."
      ]
    },
    {
      "metadata": {
        "id": "Yp5H9-5D67-k",
        "colab_type": "code",
        "colab": {
          "base_uri": "https://localhost:8080/",
          "height": 105
        },
        "outputId": "89bc41f0-e7c3-4b7f-dee1-63dbe6b1d700"
      },
      "cell_type": "code",
      "source": [
        "print (x)\n",
        "print (x.T)"
      ],
      "execution_count": 79,
      "outputs": [
        {
          "output_type": "stream",
          "text": [
            "[[1 2]\n",
            " [3 4]]\n",
            "[[1 3]\n",
            " [2 4]]\n"
          ],
          "name": "stdout"
        }
      ]
    },
    {
      "metadata": {
        "id": "VMpZxuod67-m",
        "colab_type": "code",
        "colab": {
          "base_uri": "https://localhost:8080/",
          "height": 105
        },
        "outputId": "4ee7e8bd-a5d0-43ad-9027-9917dee6806a"
      },
      "cell_type": "code",
      "source": [
        "v = np.array([[1,2,3]])\n",
        "print (v) \n",
        "print (v.T)"
      ],
      "execution_count": 80,
      "outputs": [
        {
          "output_type": "stream",
          "text": [
            "[[1 2 3]]\n",
            "[[1]\n",
            " [2]\n",
            " [3]]\n"
          ],
          "name": "stdout"
        }
      ]
    },
    {
      "metadata": {
        "id": "drTuqVch67-o",
        "colab_type": "text"
      },
      "cell_type": "markdown",
      "source": [
        "### Broadcasting"
      ]
    },
    {
      "metadata": {
        "id": "Leix550M67-o",
        "colab_type": "text"
      },
      "cell_type": "markdown",
      "source": [
        "Numpy'ın en önemli özelliklerinden bir tanesi de `broadcasting`dir. Bu işlem, küçük boyutlu bir dizi ile büyük boyutlu bir dizi arasında işlem yapılacağı zaman kolaylık sağlamaktadır. Örneğin büyük bir matrisin her bir satırına sabit sayılardan oluşan bir vektör eklemek isteyelim."
      ]
    },
    {
      "metadata": {
        "id": "vPARS7kr67-o",
        "colab_type": "code",
        "colab": {
          "base_uri": "https://localhost:8080/",
          "height": 105
        },
        "outputId": "adbf8011-f112-4c39-d6a5-b885f1b672d5"
      },
      "cell_type": "code",
      "source": [
        "# v vektörünü x matrisinin her bir satırına eklemek isteyelim\n",
        "# sonuçları y matrisinde tutalım\n",
        "\n",
        "x = np.array([[1,2,3], [4,5,6], [7,8,9], [10, 11, 12]])\n",
        "v = np.array([1, 0, 1])\n",
        "y = np.empty_like(x)   # x ile aynı boyuta sahip bir matris oluşturalım\n",
        "\n",
        "print(x) # x matrisini ekrana yazdıralım"
      ],
      "execution_count": 81,
      "outputs": [
        {
          "output_type": "stream",
          "text": [
            "[[ 1  2  3]\n",
            " [ 4  5  6]\n",
            " [ 7  8  9]\n",
            " [10 11 12]]\n"
          ],
          "name": "stdout"
        }
      ]
    },
    {
      "metadata": {
        "id": "s7aXYyU0g9SE",
        "colab_type": "code",
        "colab": {
          "base_uri": "https://localhost:8080/",
          "height": 105
        },
        "outputId": "5244f80d-eec6-4533-f4a2-01d49e401639"
      },
      "cell_type": "code",
      "source": [
        "# v vektörünü x matrisinin her bir satırına for döngüsü kullanarak ekleyelim\n",
        "for i in range(4):\n",
        "    y[i, :] = x[i, :] + v\n",
        "\n",
        "print (y)"
      ],
      "execution_count": 82,
      "outputs": [
        {
          "output_type": "stream",
          "text": [
            "[[ 2  2  4]\n",
            " [ 5  5  7]\n",
            " [ 8  8 10]\n",
            " [11 11 13]]\n"
          ],
          "name": "stdout"
        }
      ]
    },
    {
      "metadata": {
        "id": "1iLogC_i67-r",
        "colab_type": "text"
      },
      "cell_type": "markdown",
      "source": [
        "Bu işlemde herhangi bir sorun görünmüyor. Fakat `x` matrisi çok büyük olursa (örneğin bir görüntü) for döngüsü kullanarak bu işlemi yapmamız çok uzun sürer.   \n",
        "\n",
        "Her bir satırında `v` vektörünün olduğu `vv` adında yeni bir matris oluşturup, bunu `x` matrisi ile toplarsak aynı işlemi yapmış olur muyuz? Deneyelim:"
      ]
    },
    {
      "metadata": {
        "id": "fCQi5n6Vg9SF",
        "colab_type": "text"
      },
      "cell_type": "markdown",
      "source": [
        "Bir matrise tekrarlayan değerler atamak için [`np.tile`](https://docs.scipy.org/doc/numpy/reference/generated/numpy.tile.html) fonksiyonunu kullanabiliriz."
      ]
    },
    {
      "metadata": {
        "id": "Wp1hIZSK67-r",
        "colab_type": "code",
        "colab": {
          "base_uri": "https://localhost:8080/",
          "height": 105
        },
        "outputId": "6642e030-d9b4-4ec5-e23e-b5ab62b71f53"
      },
      "cell_type": "code",
      "source": [
        "vv = np.tile(v, (4, 1))  # 4 satırda 1'er kere v vektörünü kullanacağız.\n",
        "\n",
        "print (vv)"
      ],
      "execution_count": 83,
      "outputs": [
        {
          "output_type": "stream",
          "text": [
            "[[1 0 1]\n",
            " [1 0 1]\n",
            " [1 0 1]\n",
            " [1 0 1]]\n"
          ],
          "name": "stdout"
        }
      ]
    },
    {
      "metadata": {
        "id": "4u5c3AmL67-t",
        "colab_type": "code",
        "colab": {
          "base_uri": "https://localhost:8080/",
          "height": 105
        },
        "outputId": "7fcd2e3a-c931-4cf5-e130-3a8938e4fb4d"
      },
      "cell_type": "code",
      "source": [
        "y = x + vv  # x vv matrislerini toplayalım\n",
        "\n",
        "print (y)"
      ],
      "execution_count": 84,
      "outputs": [
        {
          "output_type": "stream",
          "text": [
            "[[ 2  2  4]\n",
            " [ 5  5  7]\n",
            " [ 8  8 10]\n",
            " [11 11 13]]\n"
          ],
          "name": "stdout"
        }
      ]
    },
    {
      "metadata": {
        "id": "VUC63_bi67-v",
        "colab_type": "text"
      },
      "cell_type": "markdown",
      "source": [
        "Evet aynı sonucu bulduk yine. Numpy `broadcasting` ile bu şekilde kopya oluşturmadan bu işlemi yapabiliriz."
      ]
    },
    {
      "metadata": {
        "id": "LdOYpXWH67-v",
        "colab_type": "code",
        "colab": {
          "base_uri": "https://localhost:8080/",
          "height": 105
        },
        "outputId": "0da0bf9b-c2d1-49e5-e53d-6e4868b32815"
      },
      "cell_type": "code",
      "source": [
        "import numpy as np\n",
        "\n",
        "# v vektörünü x matrisinin her bir satırına eklemek isteyelim\n",
        "# sonuçları y matrisinde tutalım\n",
        "\n",
        "x = np.array([[1,2,3], [4,5,6], [7,8,9], [10, 11, 12]])\n",
        "v = np.array([1, 0, 1])\n",
        "y = (x + v)  # x matrisinin her satırına v vektörünü broadcasting kullanarak ekleyelim\n",
        "\n",
        "print (y)"
      ],
      "execution_count": 85,
      "outputs": [
        {
          "output_type": "stream",
          "text": [
            "[[ 2  2  4]\n",
            " [ 5  5  7]\n",
            " [ 8  8 10]\n",
            " [11 11 13]]\n"
          ],
          "name": "stdout"
        }
      ]
    },
    {
      "metadata": {
        "id": "bscns3jP67-y",
        "colab_type": "text"
      },
      "cell_type": "markdown",
      "source": [
        "`x`'in boyutu `(4, 3)` ve `v`'nin boyutu `(3,)` olmasına rağmen `y = x + v` satırı çalışmaktadır.\n",
        "\n",
        "Daha fazla `broadcasting` örneği:"
      ]
    },
    {
      "metadata": {
        "id": "OqbjW15L67-z",
        "colab_type": "code",
        "colab": {
          "base_uri": "https://localhost:8080/",
          "height": 88
        },
        "outputId": "a135b0e8-93ea-4a62-e27f-6df2e5b270c4"
      },
      "cell_type": "code",
      "source": [
        "# v ile w'nin vektörel çarpımını hesaplayalım\n",
        "\n",
        "v = np.array([1,2,3])  # v'nin boyutu (3,)\n",
        "w = np.array([4,5])    # w'nin boyutu (2,)\n",
        "\n",
        "# Vektörel çarpımı yapmak için v'yi sütun vektörü haline getirmemiz gerekir\n",
        "# Sütun vektörü yaptıktan sonra broadcasting uygulayabiliriz\n",
        "# Çıktı matrisinin boyutu (3,2) olacak\n",
        "\n",
        "print (np.reshape(v, (3, 1)) * w)"
      ],
      "execution_count": 86,
      "outputs": [
        {
          "output_type": "stream",
          "text": [
            "[[ 4  5]\n",
            " [ 8 10]\n",
            " [12 15]]\n"
          ],
          "name": "stdout"
        }
      ]
    },
    {
      "metadata": {
        "id": "RXudDJUa67-0",
        "colab_type": "code",
        "colab": {
          "base_uri": "https://localhost:8080/",
          "height": 71
        },
        "outputId": "434dbc05-a267-4225-fa6b-1036632b66b6"
      },
      "cell_type": "code",
      "source": [
        "# Matrisin her satırına vektör ekleyelim\n",
        "x = np.array([[1,2,3], [4,5,6]])\n",
        "# x'in boyutu (2, 3) ve v'nin boyutu (3,) \n",
        "# (2, 3) boyutunda bir matris verecek şekilde broadcasting yapalım\n",
        "\n",
        "print (x + v)"
      ],
      "execution_count": 87,
      "outputs": [
        {
          "output_type": "stream",
          "text": [
            "[[2 4 6]\n",
            " [5 7 9]]\n"
          ],
          "name": "stdout"
        }
      ]
    },
    {
      "metadata": {
        "id": "nIfaU5Bh67-2",
        "colab_type": "code",
        "colab": {
          "base_uri": "https://localhost:8080/",
          "height": 88
        },
        "outputId": "c688dff9-dd81-4b90-82c6-c0ce3cd60e8e"
      },
      "cell_type": "code",
      "source": [
        "# Matrisin her sütununa vektör ekleyelim\n",
        "# x'in boyutu (2, 3) ve w'nin boyutu (2,).\n",
        "# Transpozunu alırsak x'in yeni boyutu (3, 2) olur\n",
        "# (3, 2) ile (2,) broadcasting işlemi sonucunda (3, 2) boyutlu matris oluşturur.\n",
        "# Sonucun transpozunu alırız.\n",
        "\n",
        "sonuc = (x.T + w).T\n",
        "\n",
        "print (sonuc)\n",
        "print(sonuc.shape)"
      ],
      "execution_count": 88,
      "outputs": [
        {
          "output_type": "stream",
          "text": [
            "[[ 5  6  7]\n",
            " [ 9 10 11]]\n",
            "(2, 3)\n"
          ],
          "name": "stdout"
        }
      ]
    },
    {
      "metadata": {
        "id": "joch7WTf67-4",
        "colab_type": "code",
        "colab": {
          "base_uri": "https://localhost:8080/",
          "height": 71
        },
        "outputId": "4a942a90-bcce-4825-ad90-9cdc5219cc9f"
      },
      "cell_type": "code",
      "source": [
        "# Bir diğer yöntem de w'yi sütun vektörü haline getirmektir.\n",
        "\n",
        "sonuc = x + np.reshape(w, (2, 1)) \n",
        "\n",
        "print (sonuc)"
      ],
      "execution_count": 89,
      "outputs": [
        {
          "output_type": "stream",
          "text": [
            "[[ 5  6  7]\n",
            " [ 9 10 11]]\n"
          ],
          "name": "stdout"
        }
      ]
    },
    {
      "metadata": {
        "id": "PrxD9S8Vg9SP",
        "colab_type": "text"
      },
      "cell_type": "markdown",
      "source": [
        "(2, 3) boyutundaki `x` matrisi sabit bir sayıyla (örneğin 2) çarparsak yine (2, 3) boyutunda bir matris elde ederiz. Sabit sayıların boyutu () olarak tanımlıdır."
      ]
    },
    {
      "metadata": {
        "id": "U5W1SnSz67-5",
        "colab_type": "code",
        "colab": {
          "base_uri": "https://localhost:8080/",
          "height": 71
        },
        "outputId": "561736fc-0e29-40b5-a30a-1cbca029363a"
      },
      "cell_type": "code",
      "source": [
        "print (x * 2)"
      ],
      "execution_count": 90,
      "outputs": [
        {
          "output_type": "stream",
          "text": [
            "[[ 2  4  6]\n",
            " [ 8 10 12]]\n"
          ],
          "name": "stdout"
        }
      ]
    },
    {
      "metadata": {
        "id": "fWif8jh967-7",
        "colab_type": "text"
      },
      "cell_type": "markdown",
      "source": [
        "`broadcasting`, `for` döngüsünden kurtardığı gibi kodun daha hızlı çalışmasını sağlar. Daha fazla bilgi için [dokümana](https://docs.scipy.org/doc/numpy/user/basics.broadcasting.html) bakabilirsiniz."
      ]
    },
    {
      "metadata": {
        "id": "0C-lKRNi67-7",
        "colab_type": "text"
      },
      "cell_type": "markdown",
      "source": [
        "Numpy'la ilgili daha fazla bilgi için [dokümanına](http://docs.scipy.org/doc/numpy/reference/) bakabilirsiniz."
      ]
    },
    {
      "metadata": {
        "id": "zncwdQEL67-7",
        "colab_type": "text"
      },
      "cell_type": "markdown",
      "source": [
        "## Matplotlib"
      ]
    },
    {
      "metadata": {
        "id": "fmdDbVgb67-7",
        "colab_type": "text"
      },
      "cell_type": "markdown",
      "source": [
        "Matplotlib bir çizim kütüphanesidir. Bu bölümde kütüphane içerisinde yer alan `matplotlib.pyplot` modülünü inceleyeceğiz."
      ]
    },
    {
      "metadata": {
        "id": "GHykUyab67-8",
        "colab_type": "code",
        "colab": {}
      },
      "cell_type": "code",
      "source": [
        "import matplotlib.pyplot as plt"
      ],
      "execution_count": 0,
      "outputs": []
    },
    {
      "metadata": {
        "id": "BW_9crWx67-9",
        "colab_type": "text"
      },
      "cell_type": "markdown",
      "source": [
        "### Çizdirme (Plotting)"
      ]
    },
    {
      "metadata": {
        "id": "6OWj2Lv167--",
        "colab_type": "text"
      },
      "cell_type": "markdown",
      "source": [
        "2 boyutlu verileri çizdirmek için `matplotlib.pyplot` modülünde bulunan `plot` fonksiyonu kullanılmaktadır."
      ]
    },
    {
      "metadata": {
        "id": "ioQdN5NFg9ST",
        "colab_type": "text"
      },
      "cell_type": "markdown",
      "source": [
        "#### Sinüs Fonksiyonu"
      ]
    },
    {
      "metadata": {
        "id": "-sWSYM4S67--",
        "colab_type": "code",
        "colab": {
          "base_uri": "https://localhost:8080/",
          "height": 384
        },
        "outputId": "ba3b3225-69ee-4bb3-ae32-30ee67a75095"
      },
      "cell_type": "code",
      "source": [
        "# Sinüs eğrisinde her bir noktanın x ve y koordinatlarını hesaplayalım\n",
        "x = np.arange(0, 3 * np.pi, 0.1) # 0'dan 3*pi'ye 0.1 aralıklı değerler\n",
        "y = np.sin(x) # x değerlerinden sinüs değerlerini hesaplayalım\n",
        "\n",
        "plt.plot(x, y) # ekranda gösterelim "
      ],
      "execution_count": 92,
      "outputs": [
        {
          "output_type": "execute_result",
          "data": {
            "text/plain": [
              "[<matplotlib.lines.Line2D at 0x7f70caaa83c8>]"
            ]
          },
          "metadata": {
            "tags": []
          },
          "execution_count": 92
        },
        {
          "output_type": "display_data",
          "data": {
            "image/png": "[encoded data removed]",
            "text/plain": [
              "<matplotlib.figure.Figure at 0x7f70caae8358>"
            ]
          },
          "metadata": {
            "tags": []
          }
        }
      ]
    },
    {
      "metadata": {
        "id": "3UdMU6Ag67_A",
        "colab_type": "code",
        "colab": {
          "base_uri": "https://localhost:8080/",
          "height": 396
        },
        "outputId": "b6524bf8-44b6-47a1-ebe4-b405eb70986e"
      },
      "cell_type": "code",
      "source": [
        "y_sin = np.sin(x)\n",
        "y_cos = np.cos(x)\n",
        "\n",
        "plt.plot(x, y_sin)\n",
        "plt.plot(x, y_cos)\n",
        "plt.xlabel('x ekseni')\n",
        "plt.ylabel('y ekseni')\n",
        "plt.title('Sinüs and Kosinüs')\n",
        "plt.legend(['sinüs', 'kosinüs'])\n",
        "plt.savefig('sincos.jpg') # çizimi resim dosyası olarak kaydedelim "
      ],
      "execution_count": 93,
      "outputs": [
        {
          "output_type": "display_data",
          "data": {
            "image/png": "[encoded data removed]",
            "text/plain": [
              "<matplotlib.figure.Figure at 0x7f70caac31d0>"
            ]
          },
          "metadata": {
            "tags": []
          }
        }
      ]
    },
    {
      "metadata": {
        "id": "Ykk1Ld9S67_C",
        "colab_type": "text"
      },
      "cell_type": "markdown",
      "source": [
        "### Alt Çizimler (Subplots)"
      ]
    },
    {
      "metadata": {
        "id": "01fzthYz67_C",
        "colab_type": "text"
      },
      "cell_type": "markdown",
      "source": [
        "Bir görselde birden fazla alt çizimi `subplot` fonksiyonu ile gösterebiliriz."
      ]
    },
    {
      "metadata": {
        "id": "QbCFDTLx67_D",
        "colab_type": "code",
        "colab": {
          "base_uri": "https://localhost:8080/",
          "height": 362
        },
        "outputId": "5cd8ad51-5a24-4d45-afbf-874bdef4e6e6"
      },
      "cell_type": "code",
      "source": [
        "# Sinüs ve Kosinüs için x ve y koorinatlarını hesaplayalım\n",
        "x = np.arange(0, 3 * np.pi, 0.1)\n",
        "y_sin = np.sin(x)\n",
        "y_cos = np.cos(x)\n",
        "\n",
        "# Yükseklik: 2 ve Genişlik = 1 olarak tanımlayalım\n",
        "# Yani en fazla 2 alt çizim gösterebiliriz.\n",
        "\n",
        "# İlk alt çizimi (Sinüs) tanımlayalım\n",
        "plt.subplot(2, 1, 1)\n",
        "plt.plot(x, y_sin)\n",
        "plt.title('Sinüs')\n",
        "\n",
        "# İkinci alt çizimi (Kosinüs) tanımlayalım\n",
        "plt.subplot(2, 1, 2)\n",
        "plt.plot(x, y_cos)\n",
        "plt.title('Kosinüs')\n",
        "\n",
        "# Alt çizimleri ekranda gösterelim\n",
        "plt.show()"
      ],
      "execution_count": 94,
      "outputs": [
        {
          "output_type": "display_data",
          "data": {
            "image/png": "[encoded data removed]",
            "text/plain": [
              "<matplotlib.figure.Figure at 0x7f70c8a137b8>"
            ]
          },
          "metadata": {
            "tags": []
          }
        }
      ]
    },
    {
      "metadata": {
        "id": "EqnLLCIR67_E",
        "colab_type": "text"
      },
      "cell_type": "markdown",
      "source": [
        "`subplot` fonksiyonu hakkında daha fazla bilgi için [dokümanına](http://matplotlib.org/api/pyplot_api.html#matplotlib.pyplot.subplot) göz atabilirsiniz."
      ]
    }
  ]
}